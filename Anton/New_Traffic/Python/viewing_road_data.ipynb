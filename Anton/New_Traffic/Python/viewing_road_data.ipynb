{
 "cells": [
  {
   "cell_type": "code",
   "execution_count": 1,
   "metadata": {},
   "outputs": [],
   "source": [
    "import networkx as nx \n",
    "import osmnx as ox \n",
    "import numpy as np \n",
    "import seaborn as sns \n",
    "import matplotlib.pyplot as plt\n",
    "import matplotlib.cm as cm\n",
    "import matplotlib.colors as colors\n",
    "import matplotlib as mpl\n",
    "#from funcs_e import *\n",
    "import grinpy\n",
    "import numpy as np\n",
    "import pandas as pd\n",
    "import pickle\n"
   ]
  },
  {
   "cell_type": "code",
   "execution_count": null,
   "metadata": {},
   "outputs": [],
   "source": [
    "import pickle\n",
    "\n",
    "# Load graph\n",
    "\n",
    "with open(r\"C:\\Users\\anton\\Desktop\\Master-Oppgave\\Kode\\New_Traffic\\data\\BaseGraph_E_NOR_wagrades.pickle\", 'rb') as file:\n",
    "    H = pickle.load(file)\n"
   ]
  },
  {
   "cell_type": "code",
   "execution_count": null,
   "metadata": {},
   "outputs": [],
   "source": [
    "\n",
    "\n"
   ]
  },
  {
   "cell_type": "code",
   "execution_count": 170,
   "metadata": {},
   "outputs": [],
   "source": [
    "#Converted into a dataframe to view the data\n",
    "import pandas as pd\n",
    "\n",
    "# Extract node data\n",
    "node_data = {node_id: data for node_id, data in H.nodes(data=True)}\n",
    "node_df = pd.DataFrame.from_dict(node_data, orient='index')\n",
    "\n",
    "# Extract edge data\n",
    "edge_data = [data for source, target, data in H.edges(data=True)]\n",
    "edge_df = pd.DataFrame(edge_data)\n",
    "\n"
   ]
  },
  {
   "cell_type": "code",
   "execution_count": null,
   "metadata": {},
   "outputs": [],
   "source": [
    "ox.plot_graph(H, figsize = (15, 30), node_color=\"blue\", edge_color = \"red\", bgcolor = \"white\", node_size=1, edge_linewidth = 1)"
   ]
  },
  {
   "cell_type": "code",
   "execution_count": 172,
   "metadata": {},
   "outputs": [
    {
     "name": "stdout",
     "output_type": "stream",
     "text": [
      "Nodes:\t\t\t 6944\n",
      "Edges:\t\t\t 9807\n",
      "Network density:\t 0.0004\n",
      "Maximum degree:\t\t 5\n",
      "Average degree:\t\t 2.8246\n"
     ]
    }
   ],
   "source": [
    "# Computes some summary statistics of the basegraph\n",
    "\n",
    "density = nx.density(H)\n",
    "deg = sorted(H.degree, key=lambda x: x[1], reverse=True)\n",
    "deg = [n[1] for n in deg]\n",
    "print(\"Nodes:\\t\\t\\t\", len(H.nodes))\n",
    "print(\"Edges:\\t\\t\\t\", len(H.edges))\n",
    "print(\"Network density:\\t\", round(density,4))\n",
    "print(\"Maximum degree:\\t\\t\", max(deg))\n",
    "print(\"Average degree:\\t\\t\", round(np.mean(deg), 4))"
   ]
  },
  {
   "cell_type": "code",
   "execution_count": 173,
   "metadata": {},
   "outputs": [],
   "source": [
    "# Store degrees, count them and create list containing histogram values\n",
    "\n",
    "degrees = dict(H.degree()) # dictionary node:degree\n",
    "values = sorted(set(degrees.values())) \n",
    "hist = [list(degrees.values()).count(x) for x in values]"
   ]
  },
  {
   "cell_type": "code",
   "execution_count": 24,
   "metadata": {},
   "outputs": [],
   "source": [
    "#A little messed up graph png but works to display regularly through output\n",
    "\n",
    "plt.figure(figsize = (15,10))\n",
    "plt.bar(values, hist) # in-degree\n",
    "plt.xlabel('Degree' , fontsize = 15)\n",
    "plt.ylabel('Number of nodes' , fontsize = 15)\n",
    "plt.tick_params(axis='both', which='major', labelsize=15)\n",
    "plt.savefig('/Users/antonglad/Master/road_env/figures/degree_dist.png', dpi = 400, bbox_inches = 'tight')\n",
    "plt.close()"
   ]
  },
  {
   "cell_type": "code",
   "execution_count": 26,
   "metadata": {},
   "outputs": [],
   "source": [
    "# Retrieve absolute value of gradients\n",
    "\n",
    "lengths = []\n",
    "for i in H.edges:\n",
    "    length = H.edges[i]['length']\n",
    "    lengths.append(length)\n",
    "\n",
    "grades = [abs(H.edges[i]['wa_grade']) for i in H.edges]  "
   ]
  },
  {
   "cell_type": "code",
   "execution_count": 27,
   "metadata": {},
   "outputs": [],
   "source": [
    "plt.figure(figsize = (15,10))\n",
    "sns.scatterplot(x = lengths, y = grades)\n",
    "plt.xlabel('Length', fontsize = 15)\n",
    "plt.ylabel('Abs. gradient', fontsize = 15)\n",
    "plt.tick_params(axis='both', which='major', labelsize=15)\n",
    "plt.savefig('/Users/antonglad/Master/road_env/figures/lengths_gradient_scatter.png', dpi = 400, bbox_inches = 'tight')\n",
    "plt.close()"
   ]
  },
  {
   "cell_type": "code",
   "execution_count": 174,
   "metadata": {},
   "outputs": [],
   "source": [
    "#Create grades and elevations from H.nodes\n",
    "grades = [H.edges[i]['wa_grade'] for i in H.edges]\n",
    "#elevations = [H.nodes[i]['elevation'] if float('-inf') < H.nodes[i]['elevation'] < float('inf') else 0 for i in H.nodes]\n",
    "elevations = [H.nodes[i]['elevation'] if np.all(np.logical_and(float('-inf') < H.nodes[i]['elevation'], H.nodes[i]['elevation'] < float('inf'))) else 0 for i in H.nodes]\n"
   ]
  },
  {
   "cell_type": "code",
   "execution_count": 175,
   "metadata": {},
   "outputs": [],
   "source": [
    "#Functions necessary for next cell \n",
    "\n",
    "def outlier_aware_hist(data, lower=None, upper=None):\n",
    "    if not lower or lower < min(data):\n",
    "        lower = min(data)\n",
    "        lower_outliers = False\n",
    "    else:\n",
    "        lower_outliers = True\n",
    "\n",
    "    if not upper or upper > max(data):\n",
    "        upper = max(data)\n",
    "        upper_outliers = False\n",
    "    else:\n",
    "        upper_outliers = True\n",
    "\n",
    "    n, bins, patches = plt.hist(data, range=(lower, upper), bins=25, edgecolor = 'white')\n",
    "\n",
    "    if lower_outliers:\n",
    "        n_lower_outliers = (data < lower).sum()\n",
    "        patches[0].set_height(patches[0].get_height() + n_lower_outliers)\n",
    "        patches[0].set_facecolor('c')\n",
    "        patches[0].set_label('Lower outliers: ({:.2f}, {:.2f})'.format(min(data), lower))\n",
    "\n",
    "    if upper_outliers:\n",
    "        n_upper_outliers = (data > upper).sum()\n",
    "        patches[-1].set_height(patches[-1].get_height() + n_upper_outliers)\n",
    "        patches[-1].set_facecolor('m')\n",
    "        patches[-1].set_label('Upper outliers: ({:.2f}, {:.2f})'.format(upper, max(data)))\n",
    "\n",
    "    if lower_outliers or upper_outliers:\n",
    "        plt.legend(prop={'size': 12})\n",
    "\n",
    "\n",
    "def mad(data):\n",
    "    median = np.median(data)\n",
    "    diff = np.abs(data - median)\n",
    "    mad = np.median(diff)\n",
    "    return mad\n",
    "\n",
    "def calculate_bounds(data, z_thresh=15):\n",
    "    MAD = mad(data)\n",
    "    median = np.median(data)\n",
    "    const = z_thresh * MAD / 0.6745\n",
    "    return (median - const, median + const)"
   ]
  },
  {
   "cell_type": "code",
   "execution_count": null,
   "metadata": {},
   "outputs": [],
   "source": [
    "\n",
    "plt.figure(figsize = (10,10))\n",
    "# plt.title(\"Distribution of grade, with binned outliers\")\n",
    "plt.xlabel(\"Grade (%)\", fontsize = 15)\n",
    "plt.tick_params(axis='both', which='major', labelsize=15)\n",
    "\n",
    "outlier_aware_hist(grades, *calculate_bounds(grades))\n",
    "plt.savefig(\"/Users/antonglad/Master/road_env/figures/dist_grade_binnedoutliers.png\", dpi = 400, bbox_inches = 'tight') "
   ]
  },
  {
   "cell_type": "code",
   "execution_count": 184,
   "metadata": {},
   "outputs": [
    {
     "name": "stderr",
     "output_type": "stream",
     "text": [
      "/Users/antonglad/opt/anaconda3/lib/python3.8/site-packages/pandas/core/dtypes/cast.py:127: ShapelyDeprecationWarning: The array interface is deprecated and will no longer work in Shapely 2.0. Convert the '.coords' to a numpy array instead.\n",
      "  arr = construct_1d_object_array_from_listlike(values)\n"
     ]
    },
    {
     "name": "stdout",
     "output_type": "stream",
     "text": [
      "Node Data:\n",
      "       source   target  ... isBridge roadclass\n",
      "0      155191   155273  ...        0         0\n",
      "1      155191   351348  ...        0         0\n",
      "2      155191   155201  ...        0         0\n",
      "3      155201   155289  ...        0         0\n",
      "4      155201   351618  ...        0         0\n",
      "...       ...      ...  ...      ...       ...\n",
      "9802  1854885  1854918  ...        0         0\n",
      "9803  1854885  1854904  ...        0         0\n",
      "9804  1854888  1854919  ...        0         0\n",
      "9805  1854888  1854905  ...        0         0\n",
      "9806  1854918  1854920  ...        0         0\n",
      "\n",
      "[9807 rows x 21 columns]\n"
     ]
    },
    {
     "name": "stderr",
     "output_type": "stream",
     "text": [
      "<ipython-input-184-e361ae8cc45e>:5: UserWarning: Pandas requires version '1.4.3' or newer of 'xlsxwriter' (version '1.3.8' currently installed).\n",
      "  node_df.to_excel(\"node_dataframe.xlsx\")\n"
     ]
    }
   ],
   "source": [
    "node_df = nx.to_pandas_edgelist(H)\n",
    "print(\"Node Data:\")\n",
    "print(node_df)\n",
    "\n",
    "node_df.to_excel(\"node_dataframe.xlsx\")"
   ]
  },
  {
   "cell_type": "code",
   "execution_count": 185,
   "metadata": {},
   "outputs": [
    {
     "name": "stderr",
     "output_type": "stream",
     "text": [
      "/Users/antonglad/opt/anaconda3/lib/python3.8/site-packages/pandas/core/dtypes/cast.py:127: ShapelyDeprecationWarning: The array interface is deprecated and will no longer work in Shapely 2.0. Convert the '.coords' to a numpy array instead.\n",
      "  arr = construct_1d_object_array_from_listlike(values)\n"
     ]
    },
    {
     "name": "stdout",
     "output_type": "stream",
     "text": [
      "\n",
      "Edge Data:\n",
      "       source   target  ... isBridge roadclass\n",
      "0      155191   155273  ...        0         0\n",
      "1      155191   351348  ...        0         0\n",
      "2      155191   155201  ...        0         0\n",
      "3      155201   155289  ...        0         0\n",
      "4      155201   351618  ...        0         0\n",
      "...       ...      ...  ...      ...       ...\n",
      "9802  1854885  1854918  ...        0         0\n",
      "9803  1854885  1854904  ...        0         0\n",
      "9804  1854888  1854919  ...        0         0\n",
      "9805  1854888  1854905  ...        0         0\n",
      "9806  1854918  1854920  ...        0         0\n",
      "\n",
      "[9807 rows x 21 columns]\n"
     ]
    }
   ],
   "source": [
    "# display the edge data as a pandas DataFrame\n",
    "edge_df = nx.to_pandas_edgelist(H, source=\"source\", target=\"target\")\n",
    "print(\"\\nEdge Data:\")\n",
    "print(edge_df)"
   ]
  },
  {
   "cell_type": "code",
   "execution_count": 186,
   "metadata": {},
   "outputs": [
    {
     "name": "stderr",
     "output_type": "stream",
     "text": [
      "<ipython-input-186-294f1425198c>:1: UserWarning: Pandas requires version '1.4.3' or newer of 'xlsxwriter' (version '1.3.8' currently installed).\n",
      "  edge_df.to_excel(\"edges_df.xlsx\")\n"
     ]
    }
   ],
   "source": [
    "edge_df.to_excel(\"edges_df.xlsx\")"
   ]
  },
  {
   "cell_type": "code",
   "execution_count": null,
   "metadata": {},
   "outputs": [],
   "source": [
    "H.edges()"
   ]
  },
  {
   "cell_type": "code",
   "execution_count": null,
   "metadata": {},
   "outputs": [],
   "source": [
    "list(H.nodes(data=True))[0:5]\n",
    "list(H.edges(data=True))[0:5]\n"
   ]
  },
  {
   "cell_type": "code",
   "execution_count": null,
   "metadata": {},
   "outputs": [],
   "source": []
  },
  {
   "cell_type": "markdown",
   "metadata": {},
   "source": [
    "*#Mapping the traffic registration points on the basegraph*"
   ]
  },
  {
   "cell_type": "code",
   "execution_count": 133,
   "metadata": {},
   "outputs": [],
   "source": [
    "csv_pd=pd.read_csv(\"/Users/antonglad/Master/road_env/data/volume_data.csv\")"
   ]
  },
  {
   "cell_type": "code",
   "execution_count": 134,
   "metadata": {},
   "outputs": [],
   "source": [
    "#Creating lists for lat and lon, set method assures no duplicates\n",
    "locs_x = csv_pd['lat'].tolist()\n",
    "locs_y = csv_pd['lon'].tolist()\n",
    "\n"
   ]
  },
  {
   "cell_type": "code",
   "execution_count": 110,
   "metadata": {},
   "outputs": [],
   "source": [
    "#Remove outliers from list of coordinates\n",
    "# locs_x=[x for x in locs_x if x>0]\n",
    "# locs_y=[y for y in locs_y if y>56]"
   ]
  },
  {
   "cell_type": "code",
   "execution_count": 138,
   "metadata": {},
   "outputs": [],
   "source": [
    "#Create tuple with list of coordinate locations\n",
    "coords=list(zip(locs_x, locs_y))\n"
   ]
  },
  {
   "cell_type": "code",
   "execution_count": 146,
   "metadata": {},
   "outputs": [
    {
     "data": {
      "image/png": "[encoded data removed]",
      "text/plain": [
       "<Figure size 720x720 with 1 Axes>"
      ]
     },
     "metadata": {
      "needs_background": "light"
     },
     "output_type": "display_data"
    }
   ],
   "source": [
    "plt.figure(figsize=(10,10))\n",
    "plt.scatter(x=locs_x, y=locs_y, s=1.5)\n",
    "plt.show()\n",
    "plt.close()"
   ]
  },
  {
   "cell_type": "code",
   "execution_count": 147,
   "metadata": {},
   "outputs": [],
   "source": [
    "plt.close()"
   ]
  },
  {
   "cell_type": "markdown",
   "metadata": {},
   "source": [
    "*#Load and analyze data on basegrpah of E roads*"
   ]
  },
  {
   "cell_type": "code",
   "execution_count": 148,
   "metadata": {},
   "outputs": [],
   "source": [
    "import pickle\n",
    "\n",
    "# Load graph\n",
    "\n",
    "with open(\"C:\\Users\\anton\\Desktop\\Master-Oppgave\\Kode\\New_Traffic\\data\\BaseGraph_E_NOR_wagrades.pickle\", 'rb') as file:\n",
    "    H = pickle.load(file)"
   ]
  },
  {
   "cell_type": "code",
   "execution_count": 149,
   "metadata": {},
   "outputs": [],
   "source": [
    "labels={n[1]:n[0] for n in enumerate(H.nodes)}\n",
    "\n",
    "H=nx.relabel_nodes(H, labels)"
   ]
  },
  {
   "cell_type": "code",
   "execution_count": 150,
   "metadata": {},
   "outputs": [],
   "source": [
    "tr=ox.get_nearest_nodes(H, locs_x, locs_y)"
   ]
  },
  {
   "cell_type": "code",
   "execution_count": 152,
   "metadata": {},
   "outputs": [],
   "source": [
    "color_map=[]\n",
    "size_map=[]\n",
    "\n",
    "for i in H.nodes:\n",
    "    if i in tr:\n",
    "        color_map.append(\"blue\")\n",
    "        size_map.append(5)\n",
    "    else:\n",
    "        color_map.append(\"blue\")\n",
    "        size_map.append(0)\n",
    "        "
   ]
  },
  {
   "cell_type": "code",
   "execution_count": 153,
   "metadata": {},
   "outputs": [],
   "source": [
    "#Insert inversion of coordinate funciton\n",
    "def get_inverted_latlon(graph, nodes = None):\n",
    "    pos = {}\n",
    "    if nodes is not None:\n",
    "        for i in nodes:\n",
    "            data = graph.nodes[i]\n",
    "            x = float(data['x'])\n",
    "            y = float(data['y'])\n",
    "            pos[i] = (x,y)\n",
    "    else:\n",
    "        nodes = [n for n in graph.nodes()]\n",
    "        for i in nodes:\n",
    "            data = graph.nodes[i]\n",
    "            x = float(data['x'])\n",
    "            y = float(data['y'])\n",
    "            pos[i] = (x,y)\n",
    "\n",
    "    return pos"
   ]
  },
  {
   "cell_type": "code",
   "execution_count": 154,
   "metadata": {},
   "outputs": [],
   "source": [
    "\n",
    "pos=get_inverted_latlon(H)\n",
    "\n",
    "fig, (ax1, ax2)=plt.subplots(1,2, figsize=(25,14))\n",
    "ax1.scatter(x=locs_x,y=locs_y, s=1.5)\n",
    "ax1.axis=(\"off\")\n",
    "ax2=nx.draw(H, ax=ax2, pos=pos, node_size=size_map, node_color=color_map)\n",
    "plt.savefig(\"/Users/antonglad/Master/road_env/figures/current_traffic_reg.png\", dpi=400, bbox_inches=\"tight\")\n",
    "plt.close()\n"
   ]
  },
  {
   "cell_type": "code",
   "execution_count": null,
   "metadata": {},
   "outputs": [],
   "source": []
  },
  {
   "cell_type": "markdown",
   "metadata": {},
   "source": [
    "*#TESTING METHODS: HOW TO COMBINE VOLUME DATA AND WEIGHTS EDGES FROM ROAD NETWORK BY VOLUME *"
   ]
  },
  {
   "cell_type": "code",
   "execution_count": 187,
   "metadata": {},
   "outputs": [],
   "source": [
    "import numpy as np\n",
    "from scipy.spatial.distance import cdist\n",
    "\n",
    "# define a function to find the closest edge in the graph to a given point\n",
    "def closest_edge(G, point):\n",
    "    nodes = np.array(G.nodes())\n",
    "    node_coords = np.array([(node[0], node[1]) for node in nodes])\n",
    "    dists = cdist([point], node_coords)\n",
    "    closest_node_idx = np.argmin(dists)\n",
    "    closest_node = nodes[closest_node_idx]\n",
    "    closest_edge = G.edges(closest_node, data=True)[0]\n",
    "    return closest_edge"
   ]
  },
  {
   "cell_type": "code",
   "execution_count": 188,
   "metadata": {},
   "outputs": [],
   "source": [
    "csv_pd=pd.read_csv(\"/Users/antonglad/Master/road_env/data/volume_data.csv\")"
   ]
  },
  {
   "cell_type": "code",
   "execution_count": 194,
   "metadata": {},
   "outputs": [],
   "source": [
    "import numpy as np\n",
    "from scipy.spatial.distance import cdist\n",
    "import geopandas as gpd\n",
    "import networkx as nx\n",
    "\n",
    "# load road network\n",
    "#G = nx.read_shp('path/to/your/road/network.shp')\n",
    "\n",
    "# create road nodes array with latitude and longitude information\n",
    "road_nodes = np.array([(node, data['geometry'].coords[0][0], data['geometry'].coords[0][1])\n",
    "                      for node, data in H.nodes(data=True)])\n",
    "\n",
    "# load traffic data\n",
    "#traffic_data = gpd.read_file('path/to/your/traffic/data.shp')\n",
    "\n",
    "# convert traffic data to numpy array\n",
    "traffic_points = csv_pd[['lon', 'lat', 'volume']].values\n",
    "\n",
    "# calculate distance matrix between traffic points and road nodes\n",
    "dist_matrix = cdist(traffic_points[:, :2], road_nodes[:, 1:], metric='euclidean')\n",
    "\n",
    "# find closest road node for each traffic point\n",
    "min_indices = np.argmin(dist_matrix, axis=1)\n",
    "min_distances = np.min(dist_matrix, axis=1)\n",
    "\n",
    "# calculate total length of all edges in the graph\n",
    "total_edge_length = sum([data['length'] for u, v, data in H.edges(data=True)])\n",
    "\n",
    "# assign traffic flow to edges based on closest road node\n",
    "for i, point in enumerate(traffic_points):\n",
    "    node_id = road_nodes[min_indices[i], 0]\n",
    "    edges = H.edges(node_id, data=True)\n",
    "    total_distance = sum([data['length'] for u, v, data in edges])\n",
    "    for u, v, data in edges:\n",
    "        edge_weight = data['length']\n",
    "        traffic_flow = point[2] * (edge_weight / total_distance)\n",
    "        if 'traffic_flow' not in data:\n",
    "            data['traffic_flow'] = traffic_flow\n",
    "        else:\n",
    "            data['traffic_flow'] += traffic_flow\n"
   ]
  },
  {
   "cell_type": "code",
   "execution_count": null,
   "metadata": {},
   "outputs": [],
   "source": [
    "#list(H.nodes(data=True))[0:5]\n",
    "list(H.edges(data=True))[0:5]"
   ]
  },
  {
   "cell_type": "code",
   "execution_count": null,
   "metadata": {},
   "outputs": [],
   "source": [
    "import pulp\n",
    "\n",
    "# Define the linear program\n",
    "prob = pulp.LpProblem('B_Flow_Minimization', pulp.LpMinimize)\n",
    "\n",
    "# Define the decision variables\n",
    "f = pulp.LpVariable.dicts('f', ((u, v) for u, v, _ in H.edges), lowBound=0, upbound=edges['traffic_flow'], cat='Continuous')\n",
    "\n",
    "# Define the objective function\n",
    "prob += pulp.lpSum(f[(u, v)] for u, v, _ in H.edges)\n",
    "\n",
    "# # Define capacity constraints\n",
    "# for u, v, d in H.edges(data=True):\n",
    "#     capacity = d['capacity']\n",
    "#     prob += f[(u, v)] <= capacity\n",
    "\n",
    "# Define flow conservation constraints\n",
    "for v in H.nodes:\n",
    "    inflow = pulp.lpSum(f[(u, v)] for u, _, _ in H.edges if u != v and v == _)\n",
    "    outflow = pulp.lpSum(f[(v, w)] for _, w, _ in H.edges if v != w and v == _)\n",
    "    prob += inflow - outflow == 0\n",
    "\n",
    "\n",
    "# Solve the linear program\n",
    "prob.solve()\n"
   ]
  },
  {
   "cell_type": "code",
   "execution_count": 271,
   "metadata": {},
   "outputs": [
    {
     "name": "stdout",
     "output_type": "stream",
     "text": [
      "Optimal objective value: 0.0\n"
     ]
    }
   ],
   "source": [
    "\n",
    "# Check if the problem has an optimal solution\n",
    "if pulp.LpStatus[prob.status] == 'Optimal':\n",
    "    # Get the optimal objective value\n",
    "    obj_val = pulp.value(prob.objective)\n",
    "    print(f'Optimal objective value: {obj_val}')\n",
    "else:\n",
    "    print('No optimal solution found.')"
   ]
  },
  {
   "cell_type": "code",
   "execution_count": null,
   "metadata": {},
   "outputs": [],
   "source": [
    "E = nx.MultiGraph()\n",
    "for u, v, attrs in edges(data=True):\n",
    "    E.add_edge(u, v, traffic_flow=attrs['traffic_flow'])\n"
   ]
  },
  {
   "cell_type": "code",
   "execution_count": 260,
   "metadata": {},
   "outputs": [
    {
     "name": "stdout",
     "output_type": "stream",
     "text": [
      "0.0\n"
     ]
    }
   ],
   "source": [
    "print(f[(287773, 287783)].value())\n"
   ]
  },
  {
   "cell_type": "code",
   "execution_count": null,
   "metadata": {},
   "outputs": [],
   "source": [
    "\n",
    "flow_df = nx.to_pandas_edgelist(H, source=\"source\", target=\"target\")\n",
    "print(\"Edge Data:\")\n",
    "\n",
    "pd.set_option('display.max_columns', None)\n",
    "node_df.head()"
   ]
  },
  {
   "cell_type": "code",
   "execution_count": 279,
   "metadata": {},
   "outputs": [],
   "source": [
    "for (u, v) in f.keys():\n",
    "    if f[(u, v)].value() != 0:\n",
    "        print(f\"Flow on edge ({u}, {v}): {f[(u, v)].value()}\")\n"
   ]
  }
 ],
 "metadata": {
  "kernelspec": {
   "display_name": "Python 3",
   "language": "python",
   "name": "python3"
  },
  "language_info": {
   "codemirror_mode": {
    "name": "ipython",
    "version": 3
   },
   "file_extension": ".py",
   "mimetype": "text/x-python",
   "name": "python",
   "nbconvert_exporter": "python",
   "pygments_lexer": "ipython3",
   "version": "3.10.10"
  },
  "orig_nbformat": 4,
  "vscode": {
   "interpreter": {
    "hash": "dc9198d752fabc74015ca3ce8d5de7530466fab88e0eb7c14aeb98fcedbad7af"
   }
  }
 },
 "nbformat": 4,
 "nbformat_minor": 2
}
