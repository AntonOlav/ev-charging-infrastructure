{
 "cells": [
  {
   "cell_type": "code",
   "execution_count": 1,
   "metadata": {},
   "outputs": [],
   "source": [
    "\n",
    "import numpy as np\n",
    "import pandas as pd\n",
    "import pickle\n",
    "import networkx as nx \n",
    "import osmnx as ox \n",
    "import numpy as np \n",
    "import seaborn as sns "
   ]
  },
  {
   "cell_type": "code",
   "execution_count": null,
   "metadata": {},
   "outputs": [],
   "source": [
    "#Load volume dataset\n",
    "# csv_pd=pd.read_excel(r\"C:\\Users\\anton\\Desktop\\Master-Oppgave\\Kode\\New_Traffic\\weekly_data\\weekly_data_xl.xlsx\")\n",
    "\n",
    "# # Load graph\n",
    "# with open(r\"C:\\Users\\anton\\Desktop\\Master-Oppgave\\Kode\\New_Traffic\\data\\BaseGraph_E_NOR_wagrades.pickle\", 'rb') as file:\n",
    "#     G = pickle.load(file)\n"
   ]
  },
  {
   "cell_type": "code",
   "execution_count": 17,
   "metadata": {},
   "outputs": [
    {
     "name": "stderr",
     "output_type": "stream",
     "text": [
      "C:\\Users\\anton\\AppData\\Local\\Temp\\ipykernel_21128\\3093859715.py:9: UserWarning: Unpickling a shapely <2.0 geometry object. Please save the pickle again; shapely 2.1 will not have this compatibility.\n",
      "  G = pickle.load(file)\n",
      "  0%|          | 0/7273 [00:00<?, ?it/s]C:\\Users\\anton\\AppData\\Local\\Packages\\PythonSoftwareFoundation.Python.3.10_qbz5n2kfra8p0\\LocalCache\\local-packages\\Python310\\site-packages\\shapely\\measurement.py:74: RuntimeWarning: invalid value encountered in distance\n",
      "  return lib.distance(a, b, **kwargs)\n",
      "100%|██████████| 7273/7273 [30:32<00:00,  3.97it/s]\n"
     ]
    }
   ],
   "source": [
    "import pandas as pd\n",
    "import networkx as nx\n",
    "from shapely.geometry import Point, LineString\n",
    "import pickle\n",
    "from tqdm import tqdm \n",
    "\n",
    "# read in the road network graph\n",
    "with open(r\"C:\\Users\\anton\\Desktop\\Master-Oppgave\\Kode\\New_Traffic\\data\\BaseGraph_E_NOR_wagrades.pickle\", 'rb') as file:\n",
    "    G = pickle.load(file)\n",
    "\n",
    "# create a dictionary mapping node IDs to (x, y) coordinates\n",
    "node_coords = {node: (data['x'], data['y']) for node, data in G.nodes(data=True)}\n",
    "\n",
    "# read in the dataframe with the traffic points\n",
    "points_df = pd.read_excel(r\"C:\\Users\\anton\\Desktop\\Master-Oppgave\\Kode\\New_Traffic\\weekly_data\\weekly_data_xl.xlsx\")\n",
    "#Remove volume1 and volume2\n",
    "points_df=points_df.drop(\"volume1\", axis=\"columns\")\n",
    "points_df=points_df.drop(\"volume2\", axis=\"columns\")\n",
    "\n",
    "# convert latitude and longitude columns to shapely Point objects\n",
    "points_df['geometry'] = points_df.apply(lambda x: Point(x['lon'], x['lat']), axis=1)\n",
    "\n",
    "# loop through each point in the dataframe and find the nearest edge on the road network graph\n",
    "for idx, row in tqdm(points_df.iterrows(), total=points_df.shape[0]):\n",
    "# get the shapely Point object for the current traffic point\n",
    "    point = row['geometry']\n",
    "# find the nearest point on the road network graph\n",
    "    nearest_node = None\n",
    "    min_distance = float('inf')\n",
    "    for node in G.nodes:\n",
    "        # extract (x, y) coordinates from node attributes\n",
    "        x, y = G.nodes[node]['x'], G.nodes[node]['y']\n",
    "        node_point = Point(x, y)\n",
    "        distance = point.distance(node_point)\n",
    "        if distance < min_distance:\n",
    "            nearest_node = node\n",
    "            min_distance = distance\n",
    "    # find the closest edge to the nearest point on the road network graph\n",
    "    nearest_edge = None\n",
    "    min_distance = float('inf')\n",
    "\n",
    "    for edge in G.edges:\n",
    "    # get the coordinates of the nodes in the edge tuple\n",
    "        node1 = G.nodes[edge[0]]\n",
    "        node2 = G.nodes[edge[1]]\n",
    "        coords = [(node1['x'], node1['y']), (node2['x'], node2['y'])]\n",
    "\n",
    "        # construct a LineString from the coordinates and compute the distance to the point\n",
    "        distance = point.distance(LineString(coords))\n",
    "\n",
    "        if distance < min_distance:\n",
    "            nearest_edge = edge\n",
    "            min_distance = distance\n",
    "    # if the distance between the point and the closest point on the edge is below a certain threshold,\n",
    "    # add the volume data to that edge's attribute in the road network graph\n",
    "    if min_distance < 50: # adjust the threshold as needed\n",
    "    # create a dictionary to hold the edge attributes\n",
    "        edge_attrs = {}\n",
    "\n",
    "        # update the dictionary with the new 'volume' attribute\n",
    "        edge_attrs['volume'] = row['volume']\n",
    "\n",
    "        # update the edge attributes in the graph using the dictionary\n",
    "        G.edges[nearest_edge].update(edge_attrs)\n"
   ]
  },
  {
   "cell_type": "code",
   "execution_count": 18,
   "metadata": {},
   "outputs": [],
   "source": [
    "volume_testing=nx.to_pandas_edgelist(G)\n",
    "\n",
    "volume_testing.to_csv(\"network_with_volume.csv\", index=False)"
   ]
  },
  {
   "cell_type": "code",
   "execution_count": null,
   "metadata": {},
   "outputs": [],
   "source": []
  }
 ],
 "metadata": {
  "kernelspec": {
   "display_name": "Python 3",
   "language": "python",
   "name": "python3"
  },
  "language_info": {
   "codemirror_mode": {
    "name": "ipython",
    "version": 3
   },
   "file_extension": ".py",
   "mimetype": "text/x-python",
   "name": "python",
   "nbconvert_exporter": "python",
   "pygments_lexer": "ipython3",
   "version": "3.10.10"
  },
  "orig_nbformat": 4,
  "vscode": {
   "interpreter": {
    "hash": "dc9198d752fabc74015ca3ce8d5de7530466fab88e0eb7c14aeb98fcedbad7af"
   }
  }
 },
 "nbformat": 4,
 "nbformat_minor": 2
}
