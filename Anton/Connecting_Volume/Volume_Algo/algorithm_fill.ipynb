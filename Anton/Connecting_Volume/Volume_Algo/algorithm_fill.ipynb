{
 "cells": [
  {
   "cell_type": "code",
   "execution_count": 1,
   "metadata": {},
   "outputs": [],
   "source": [
    "import networkx as nx\n",
    "import matplotlib.pyplot as plt\n",
    "import json\n",
    "\n"
   ]
  },
  {
   "cell_type": "code",
   "execution_count": 2,
   "metadata": {},
   "outputs": [],
   "source": [
    "\n",
    "# Define the graph as a dictionary\n",
    "graph_dict = {\n",
    "    \"A\": {\"B\": {\"volume\": \"?\"}, \"C\": {\"volume\": 3},   \"D\": {\"volume\": 2}},\n",
    "    \"B\": {\"A\": {\"volume\": \"?\"}, \"E\": {\"volume\": 3},   \"F\": {\"volume\": 6}},\n",
    "    \"C\": {\"A\": {\"volume\": 4},   \"G\": {\"volume\": \"?\"}, \"H\": {\"volume\": 3}},\n",
    "    \"D\": {\"A\": {\"volume\": 3},   \"I\": {\"volume\": 6},   \"J\": {\"volume\": 8}},\n",
    "    \"E\": {\"B\": {\"volume\": 5},   \"K\": {\"volume\": 7}},\n",
    "    \"F\": {\"B\": {\"volume\": 7},   \"L\": {\"volume\": 4}},\n",
    "    \"G\": {\"C\": {\"volume\": \"?\"}, \"M\": {\"volume\": 6}},\n",
    "    \"H\": {\"C\": {\"volume\": 3},   \"N\": {\"volume\": 5}},\n",
    "    \"I\": {\"D\": {\"volume\": 7},   \"O\": {\"volume\": 5}},\n",
    "    \"J\": {\"D\": {\"volume\": 7},   \"P\": {\"volume\": 8}},\n",
    "    \"K\": {\"E\": {\"volume\": 8}},\n",
    "    \"L\": {\"F\": {\"volume\": 3}},\n",
    "    \"M\": {\"G\": {\"volume\": 7}},\n",
    "    \"N\": {\"H\": {\"volume\": 2}},\n",
    "    \"O\": {\"I\": {\"volume\": 10}},\n",
    "    \"P\": {\"J\": {\"volume\": 8}},\n",
    "}\n"
   ]
  },
  {
   "cell_type": "code",
   "execution_count": 3,
   "metadata": {},
   "outputs": [],
   "source": [
    "\n",
    "# Save graph_dict as json for further usage\n",
    "with open(\"graphJson.json\", \"w\") as f:\n",
    "    json.dump(graph_dict, f, indent=4)\n"
   ]
  },
  {
   "cell_type": "code",
   "execution_count": 4,
   "metadata": {},
   "outputs": [],
   "source": [
    "\n",
    "# Create an empty directed graph\n",
    "G = nx.DiGraph()\n"
   ]
  },
  {
   "cell_type": "code",
   "execution_count": 5,
   "metadata": {},
   "outputs": [],
   "source": [
    "\n",
    "# Iterate through the dictionary and add edges along with their attributes\n",
    "for node, neighbors in graph_dict.items():\n",
    "    for neighbor, attributes in neighbors.items():\n",
    "        G.add_edge(node, neighbor, **attributes)\n",
    "\n"
   ]
  },
  {
   "cell_type": "code",
   "execution_count": 6,
   "metadata": {},
   "outputs": [],
   "source": [
    "\n",
    "# def compute_mean_volume(G, node1, node2):\n",
    "#     neighbor_volumes = []\n",
    "#     for neighbor in G.neighbors(node1):\n",
    "#         if neighbor != node2:\n",
    "#             edge_volume = G[node1][neighbor][\"volume\"]\n",
    "#             if edge_volume != \"?\":\n",
    "#                 neighbor_volumes.append(edge_volume)\n",
    "    \n",
    "#     for neighbor in G.neighbors(node2):\n",
    "#         if neighbor != node1:\n",
    "#             edge_volume = G[node2][neighbor][\"volume\"]\n",
    "#             if edge_volume != \"?\":\n",
    "#                 neighbor_volumes.append(edge_volume)\n",
    "    \n",
    "#     return round(sum(neighbor_volumes) / len(neighbor_volumes)) if neighbor_volumes else \"?\""
   ]
  },
  {
   "cell_type": "code",
   "execution_count": null,
   "metadata": {},
   "outputs": [],
   "source": []
  },
  {
   "cell_type": "code",
   "execution_count": 7,
   "metadata": {},
   "outputs": [],
   "source": [
    "def compute_mean_volume(G, node1, node2):\n",
    "    neighbor_volumes = []\n",
    "    for neighbor in G.neighbors(node1):\n",
    "        if neighbor != node2:\n",
    "            edge_volume = G[node1][neighbor][\"volume\"]\n",
    "            if edge_volume != \"?\":\n",
    "                neighbor_volumes.append(edge_volume)\n",
    "    \n",
    "    for neighbor in G.neighbors(node2):\n",
    "        if neighbor != node1:\n",
    "            edge_volume = G[node2][neighbor][\"volume\"]\n",
    "            if edge_volume != \"?\":\n",
    "                neighbor_volumes.append(edge_volume)\n",
    "    \n",
    "    total_volumes = sum(neighbor_volumes)\n",
    "    total_edges = len(neighbor_volumes)\n",
    "    \n",
    "    if total_edges == 0:\n",
    "        return \"?\"\n",
    "\n",
    "    return round(total_volumes / total_edges)"
   ]
  },
  {
   "cell_type": "code",
   "execution_count": 8,
   "metadata": {},
   "outputs": [],
   "source": [
    "# Fill missing volumes using the mean of neighboring volumes\n",
    "for u, v, data in G.edges(data=True):\n",
    "    if data[\"volume\"] == \"?\":\n",
    "        mean_volume = compute_mean_volume(G, u, v)\n",
    "        if mean_volume != \"?\":\n",
    "            data[\"volume\"] = mean_volume\n",
    "            G[v][u][\"volume\"] = mean_volume"
   ]
  },
  {
   "cell_type": "code",
   "execution_count": 9,
   "metadata": {},
   "outputs": [],
   "source": [
    "H=G.to_undirected()"
   ]
  },
  {
   "cell_type": "code",
   "execution_count": 10,
   "metadata": {},
   "outputs": [],
   "source": [
    "\n",
    "pos = nx.spring_layout(H, seed=2)\n",
    "labels = {(u, v): data[\"volume\"] for u, v, data in H.edges(data=True)}\n"
   ]
  },
  {
   "cell_type": "code",
   "execution_count": 11,
   "metadata": {},
   "outputs": [
    {
     "data": {
      "image/png": "[encoded data removed]",
      "text/plain": [
       "<Figure size 720x720 with 1 Axes>"
      ]
     },
     "metadata": {},
     "output_type": "display_data"
    }
   ],
   "source": [
    "\n",
    "plt.figure(figsize=(10, 10))\n",
    "nx.draw(H, pos=pos, with_labels=True)\n",
    "nx.draw_networkx_edge_labels(\n",
    "    H, pos, labels, label_pos=0.3, bbox=dict(alpha=0), font_size=10\n",
    ")\n",
    "nx.draw_networkx_edges(H, pos, arrows=True)\n",
    "plt.savefig(\"undirected_digraphFromDict.png\", dpi=400)\n",
    "plt.show()"
   ]
  },
  {
   "cell_type": "code",
   "execution_count": null,
   "metadata": {},
   "outputs": [],
   "source": []
  }
 ],
 "metadata": {
  "kernelspec": {
   "display_name": "Python 3.8.8 ('base')",
   "language": "python",
   "name": "python3"
  },
  "language_info": {
   "codemirror_mode": {
    "name": "ipython",
    "version": 3
   },
   "file_extension": ".py",
   "mimetype": "text/x-python",
   "name": "python",
   "nbconvert_exporter": "python",
   "pygments_lexer": "ipython3",
   "version": "3.8.8"
  },
  "orig_nbformat": 4,
  "vscode": {
   "interpreter": {
    "hash": "393afd99e82f473f00688931744ee43fc812449247a45149905dbd5d2b00094e"
   }
  }
 },
 "nbformat": 4,
 "nbformat_minor": 2
}
