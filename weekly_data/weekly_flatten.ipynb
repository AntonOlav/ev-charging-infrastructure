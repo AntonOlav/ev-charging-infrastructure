{
 "cells": [
  {
   "cell_type": "code",
   "execution_count": 31,
   "metadata": {},
   "outputs": [],
   "source": [
    "import numpy as np\n",
    "import pandas as pd\n",
    "import json\n"
   ]
  },
  {
   "cell_type": "code",
   "execution_count": 32,
   "metadata": {},
   "outputs": [],
   "source": [
    "raw_data = json.load(open(r\"C:\\Users\\anton\\Desktop\\Master-Oppgave\\Kode\\New_Traffic\\weekly_data\\weekly_volumes.json\"))\n"
   ]
  },
  {
   "cell_type": "code",
   "execution_count": 33,
   "metadata": {},
   "outputs": [],
   "source": [
    "def flatten(item):\n",
    "    return [\n",
    "        {\n",
    "            \"id\": item[\"data\"][\"trafficData\"][\"trafficRegistrationPoint\"][\"id\"],\n",
    "            \"name\": item[\"data\"][\"trafficData\"][\"trafficRegistrationPoint\"][\"name\"],\n",
    "            \"lat\": item[\"data\"][\"trafficData\"][\"trafficRegistrationPoint\"][\"location\"][\"coordinates\"][\"latLon\"][\"lat\"],\n",
    "            \"lon\": item[\"data\"][\"trafficData\"][\"trafficRegistrationPoint\"][\"location\"][\"coordinates\"][\"latLon\"][\"lon\"],\n",
    "            \"volume\": month[\"total\"][\"volume\"][\"average\"] if month and month[\"total\"] and month[\"total\"][\"volume\"] else np.nan,\n",
    "            \"year\":month[\"year\"] if month else np.nan,\n",
    "            \"month\": month[\"month\"] if month else np.nan,\n",
    "            \"heading1\": byDirection[\"heading\"] if byDirection[\"heading\"] else np.nan,\n",
    "            \"volume_heading1\": byDirection[\"total\"][\"volume\"][\"average\"] if byDirection[\"total\"][\"volume\"] else np.nan\n",
    "        }\n",
    "        for month in item[\"data\"][\"trafficData\"][\"volume\"][\"average\"][\"daily\"][\"byMonth\"] #IF Remove byMonth -> New error, string must be integers \n",
    "        if month\n",
    "\n",
    "        for byDirection in month[\"byDirection\"]\n",
    "        if byDirection\n",
    "    ]"
   ]
  },
  {
   "cell_type": "code",
   "execution_count": 34,
   "metadata": {},
   "outputs": [],
   "source": [
    "#Execute flatten function on data\n",
    "data = []\n",
    "for item in raw_data:\n",
    "    data.extend(flatten(item))\n"
   ]
  },
  {
   "cell_type": "code",
   "execution_count": 35,
   "metadata": {},
   "outputs": [],
   "source": [
    "#Display in dataframe\n",
    "df = pd.DataFrame(data)"
   ]
  },
  {
   "cell_type": "code",
   "execution_count": 36,
   "metadata": {},
   "outputs": [
    {
     "data": {
      "text/html": [
       "<div>\n",
       "<style scoped>\n",
       "    .dataframe tbody tr th:only-of-type {\n",
       "        vertical-align: middle;\n",
       "    }\n",
       "\n",
       "    .dataframe tbody tr th {\n",
       "        vertical-align: top;\n",
       "    }\n",
       "\n",
       "    .dataframe thead th {\n",
       "        text-align: right;\n",
       "    }\n",
       "</style>\n",
       "<table border=\"1\" class=\"dataframe\">\n",
       "  <thead>\n",
       "    <tr style=\"text-align: right;\">\n",
       "      <th></th>\n",
       "      <th>id</th>\n",
       "      <th>name</th>\n",
       "      <th>lat</th>\n",
       "      <th>lon</th>\n",
       "      <th>volume</th>\n",
       "      <th>year</th>\n",
       "      <th>month</th>\n",
       "      <th>heading1</th>\n",
       "      <th>volume_heading1</th>\n",
       "    </tr>\n",
       "  </thead>\n",
       "  <tbody>\n",
       "    <tr>\n",
       "      <th>0</th>\n",
       "      <td>41379V1201935</td>\n",
       "      <td>MESNADALSARMEN</td>\n",
       "      <td>61.115044</td>\n",
       "      <td>10.456279</td>\n",
       "      <td>13023.0</td>\n",
       "      <td>2018</td>\n",
       "      <td>1</td>\n",
       "      <td>STRANDTORGET FELT 1</td>\n",
       "      <td>6570</td>\n",
       "    </tr>\n",
       "    <tr>\n",
       "      <th>1</th>\n",
       "      <td>41379V1201935</td>\n",
       "      <td>MESNADALSARMEN</td>\n",
       "      <td>61.115044</td>\n",
       "      <td>10.456279</td>\n",
       "      <td>13023.0</td>\n",
       "      <td>2018</td>\n",
       "      <td>1</td>\n",
       "      <td>SENTRUM FELT 2</td>\n",
       "      <td>6453</td>\n",
       "    </tr>\n",
       "    <tr>\n",
       "      <th>2</th>\n",
       "      <td>41379V1201935</td>\n",
       "      <td>MESNADALSARMEN</td>\n",
       "      <td>61.115044</td>\n",
       "      <td>10.456279</td>\n",
       "      <td>13998.0</td>\n",
       "      <td>2018</td>\n",
       "      <td>2</td>\n",
       "      <td>STRANDTORGET FELT 1</td>\n",
       "      <td>7024</td>\n",
       "    </tr>\n",
       "    <tr>\n",
       "      <th>3</th>\n",
       "      <td>41379V1201935</td>\n",
       "      <td>MESNADALSARMEN</td>\n",
       "      <td>61.115044</td>\n",
       "      <td>10.456279</td>\n",
       "      <td>13998.0</td>\n",
       "      <td>2018</td>\n",
       "      <td>2</td>\n",
       "      <td>SENTRUM FELT 2</td>\n",
       "      <td>6974</td>\n",
       "    </tr>\n",
       "    <tr>\n",
       "      <th>4</th>\n",
       "      <td>41379V1201935</td>\n",
       "      <td>MESNADALSARMEN</td>\n",
       "      <td>61.115044</td>\n",
       "      <td>10.456279</td>\n",
       "      <td>13878.0</td>\n",
       "      <td>2018</td>\n",
       "      <td>3</td>\n",
       "      <td>STRANDTORGET FELT 1</td>\n",
       "      <td>6950</td>\n",
       "    </tr>\n",
       "  </tbody>\n",
       "</table>\n",
       "</div>"
      ],
      "text/plain": [
       "              id            name        lat        lon   volume  year  month  \\\n",
       "0  41379V1201935  MESNADALSARMEN  61.115044  10.456279  13023.0  2018      1   \n",
       "1  41379V1201935  MESNADALSARMEN  61.115044  10.456279  13023.0  2018      1   \n",
       "2  41379V1201935  MESNADALSARMEN  61.115044  10.456279  13998.0  2018      2   \n",
       "3  41379V1201935  MESNADALSARMEN  61.115044  10.456279  13998.0  2018      2   \n",
       "4  41379V1201935  MESNADALSARMEN  61.115044  10.456279  13878.0  2018      3   \n",
       "\n",
       "              heading1  volume_heading1  \n",
       "0  STRANDTORGET FELT 1             6570  \n",
       "1       SENTRUM FELT 2             6453  \n",
       "2  STRANDTORGET FELT 1             7024  \n",
       "3       SENTRUM FELT 2             6974  \n",
       "4  STRANDTORGET FELT 1             6950  "
      ]
     },
     "execution_count": 36,
     "metadata": {},
     "output_type": "execute_result"
    }
   ],
   "source": [
    "df.head()"
   ]
  },
  {
   "cell_type": "code",
   "execution_count": 37,
   "metadata": {},
   "outputs": [
    {
     "name": "stdout",
     "output_type": "stream",
     "text": [
      "641\n"
     ]
    }
   ],
   "source": [
    "unique_id=df[\"id\"].nunique()\n",
    "print(unique_id)\n"
   ]
  },
  {
   "cell_type": "code",
   "execution_count": 38,
   "metadata": {},
   "outputs": [
    {
     "data": {
      "text/plain": [
       "id                  641\n",
       "name                641\n",
       "lat                 640\n",
       "lon                 641\n",
       "volume             6019\n",
       "year                  1\n",
       "month                12\n",
       "heading1            606\n",
       "volume_heading1    8061\n",
       "dtype: int64"
      ]
     },
     "execution_count": 38,
     "metadata": {},
     "output_type": "execute_result"
    }
   ],
   "source": [
    "df.nunique(axis=0)"
   ]
  },
  {
   "cell_type": "code",
   "execution_count": 39,
   "metadata": {},
   "outputs": [],
   "source": [
    "df = df.drop_duplicates(subset=[\"id\", \"month\"])\n"
   ]
  },
  {
   "cell_type": "code",
   "execution_count": 40,
   "metadata": {},
   "outputs": [],
   "source": [
    "df.nunique(axis=0)\n",
    "df[\"volume\"] = df[\"volume\"].replace(np.nan, 0).astype(int)"
   ]
  },
  {
   "cell_type": "code",
   "execution_count": 41,
   "metadata": {},
   "outputs": [],
   "source": [
    "df.head()\n",
    "\n",
    "\n",
    "df = df.drop(columns=[\"heading1\", \"volume_heading1\"])\n"
   ]
  },
  {
   "cell_type": "code",
   "execution_count": 42,
   "metadata": {},
   "outputs": [],
   "source": [
    "df.head()\n",
    "\n",
    "df[\"volume1\"]=df[\"volume\"]/2\n",
    "df[\"volume2\"]=df[\"volume\"]/2\n",
    "\n"
   ]
  },
  {
   "cell_type": "code",
   "execution_count": 43,
   "metadata": {},
   "outputs": [
    {
     "name": "stdout",
     "output_type": "stream",
     "text": [
      "Column A contains numeric values\n",
      "Empty DataFrame\n",
      "Columns: [id, name, lat, lon, volume, year, month, volume1, volume2]\n",
      "Index: []\n"
     ]
    }
   ],
   "source": [
    "# check if column 'A' contains numeric values\n",
    "if pd.api.types.is_numeric_dtype(df['volume1']):\n",
    "    print('Column A contains numeric values')\n",
    "else:\n",
    "    print('Column A does not contain numeric values')\n",
    "\n",
    "# view the rows in column 'A' with non-numeric values\n",
    "non_numeric_rows = df.loc[~pd.to_numeric(df['volume1'], errors='coerce').notnull()]\n",
    "print(non_numeric_rows)"
   ]
  },
  {
   "cell_type": "code",
   "execution_count": 44,
   "metadata": {},
   "outputs": [
    {
     "data": {
      "text/html": [
       "<div>\n",
       "<style scoped>\n",
       "    .dataframe tbody tr th:only-of-type {\n",
       "        vertical-align: middle;\n",
       "    }\n",
       "\n",
       "    .dataframe tbody tr th {\n",
       "        vertical-align: top;\n",
       "    }\n",
       "\n",
       "    .dataframe thead th {\n",
       "        text-align: right;\n",
       "    }\n",
       "</style>\n",
       "<table border=\"1\" class=\"dataframe\">\n",
       "  <thead>\n",
       "    <tr style=\"text-align: right;\">\n",
       "      <th></th>\n",
       "      <th>id</th>\n",
       "      <th>name</th>\n",
       "      <th>lat</th>\n",
       "      <th>lon</th>\n",
       "      <th>volume</th>\n",
       "      <th>year</th>\n",
       "      <th>month</th>\n",
       "      <th>volume1</th>\n",
       "      <th>volume2</th>\n",
       "    </tr>\n",
       "  </thead>\n",
       "  <tbody>\n",
       "    <tr>\n",
       "      <th>0</th>\n",
       "      <td>41379V1201935</td>\n",
       "      <td>MESNADALSARMEN</td>\n",
       "      <td>61.115044</td>\n",
       "      <td>10.456279</td>\n",
       "      <td>13023</td>\n",
       "      <td>2018</td>\n",
       "      <td>1</td>\n",
       "      <td>6511.5</td>\n",
       "      <td>6511.5</td>\n",
       "    </tr>\n",
       "    <tr>\n",
       "      <th>2</th>\n",
       "      <td>41379V1201935</td>\n",
       "      <td>MESNADALSARMEN</td>\n",
       "      <td>61.115044</td>\n",
       "      <td>10.456279</td>\n",
       "      <td>13998</td>\n",
       "      <td>2018</td>\n",
       "      <td>2</td>\n",
       "      <td>6999.0</td>\n",
       "      <td>6999.0</td>\n",
       "    </tr>\n",
       "    <tr>\n",
       "      <th>4</th>\n",
       "      <td>41379V1201935</td>\n",
       "      <td>MESNADALSARMEN</td>\n",
       "      <td>61.115044</td>\n",
       "      <td>10.456279</td>\n",
       "      <td>13878</td>\n",
       "      <td>2018</td>\n",
       "      <td>3</td>\n",
       "      <td>6939.0</td>\n",
       "      <td>6939.0</td>\n",
       "    </tr>\n",
       "    <tr>\n",
       "      <th>6</th>\n",
       "      <td>41379V1201935</td>\n",
       "      <td>MESNADALSARMEN</td>\n",
       "      <td>61.115044</td>\n",
       "      <td>10.456279</td>\n",
       "      <td>14288</td>\n",
       "      <td>2018</td>\n",
       "      <td>4</td>\n",
       "      <td>7144.0</td>\n",
       "      <td>7144.0</td>\n",
       "    </tr>\n",
       "    <tr>\n",
       "      <th>8</th>\n",
       "      <td>41379V1201935</td>\n",
       "      <td>MESNADALSARMEN</td>\n",
       "      <td>61.115044</td>\n",
       "      <td>10.456279</td>\n",
       "      <td>14669</td>\n",
       "      <td>2018</td>\n",
       "      <td>5</td>\n",
       "      <td>7334.5</td>\n",
       "      <td>7334.5</td>\n",
       "    </tr>\n",
       "  </tbody>\n",
       "</table>\n",
       "</div>"
      ],
      "text/plain": [
       "              id            name        lat        lon  volume  year  month  \\\n",
       "0  41379V1201935  MESNADALSARMEN  61.115044  10.456279   13023  2018      1   \n",
       "2  41379V1201935  MESNADALSARMEN  61.115044  10.456279   13998  2018      2   \n",
       "4  41379V1201935  MESNADALSARMEN  61.115044  10.456279   13878  2018      3   \n",
       "6  41379V1201935  MESNADALSARMEN  61.115044  10.456279   14288  2018      4   \n",
       "8  41379V1201935  MESNADALSARMEN  61.115044  10.456279   14669  2018      5   \n",
       "\n",
       "   volume1  volume2  \n",
       "0   6511.5   6511.5  \n",
       "2   6999.0   6999.0  \n",
       "4   6939.0   6939.0  \n",
       "6   7144.0   7144.0  \n",
       "8   7334.5   7334.5  "
      ]
     },
     "execution_count": 44,
     "metadata": {},
     "output_type": "execute_result"
    }
   ],
   "source": []
  },
  {
   "cell_type": "code",
   "execution_count": 46,
   "metadata": {},
   "outputs": [],
   "source": [
    "df['volume1']=df['volume1'].round().astype(int)\n",
    "df['volume2']=df['volume2'].round().astype(int)"
   ]
  },
  {
   "cell_type": "code",
   "execution_count": 47,
   "metadata": {},
   "outputs": [
    {
     "data": {
      "text/html": [
       "<div>\n",
       "<style scoped>\n",
       "    .dataframe tbody tr th:only-of-type {\n",
       "        vertical-align: middle;\n",
       "    }\n",
       "\n",
       "    .dataframe tbody tr th {\n",
       "        vertical-align: top;\n",
       "    }\n",
       "\n",
       "    .dataframe thead th {\n",
       "        text-align: right;\n",
       "    }\n",
       "</style>\n",
       "<table border=\"1\" class=\"dataframe\">\n",
       "  <thead>\n",
       "    <tr style=\"text-align: right;\">\n",
       "      <th></th>\n",
       "      <th>id</th>\n",
       "      <th>name</th>\n",
       "      <th>lat</th>\n",
       "      <th>lon</th>\n",
       "      <th>volume</th>\n",
       "      <th>year</th>\n",
       "      <th>month</th>\n",
       "      <th>volume1</th>\n",
       "      <th>volume2</th>\n",
       "    </tr>\n",
       "  </thead>\n",
       "  <tbody>\n",
       "    <tr>\n",
       "      <th>0</th>\n",
       "      <td>41379V1201935</td>\n",
       "      <td>MESNADALSARMEN</td>\n",
       "      <td>61.115044</td>\n",
       "      <td>10.456279</td>\n",
       "      <td>13023</td>\n",
       "      <td>2018</td>\n",
       "      <td>1</td>\n",
       "      <td>6512</td>\n",
       "      <td>6512</td>\n",
       "    </tr>\n",
       "    <tr>\n",
       "      <th>2</th>\n",
       "      <td>41379V1201935</td>\n",
       "      <td>MESNADALSARMEN</td>\n",
       "      <td>61.115044</td>\n",
       "      <td>10.456279</td>\n",
       "      <td>13998</td>\n",
       "      <td>2018</td>\n",
       "      <td>2</td>\n",
       "      <td>6999</td>\n",
       "      <td>6999</td>\n",
       "    </tr>\n",
       "    <tr>\n",
       "      <th>4</th>\n",
       "      <td>41379V1201935</td>\n",
       "      <td>MESNADALSARMEN</td>\n",
       "      <td>61.115044</td>\n",
       "      <td>10.456279</td>\n",
       "      <td>13878</td>\n",
       "      <td>2018</td>\n",
       "      <td>3</td>\n",
       "      <td>6939</td>\n",
       "      <td>6939</td>\n",
       "    </tr>\n",
       "    <tr>\n",
       "      <th>6</th>\n",
       "      <td>41379V1201935</td>\n",
       "      <td>MESNADALSARMEN</td>\n",
       "      <td>61.115044</td>\n",
       "      <td>10.456279</td>\n",
       "      <td>14288</td>\n",
       "      <td>2018</td>\n",
       "      <td>4</td>\n",
       "      <td>7144</td>\n",
       "      <td>7144</td>\n",
       "    </tr>\n",
       "    <tr>\n",
       "      <th>8</th>\n",
       "      <td>41379V1201935</td>\n",
       "      <td>MESNADALSARMEN</td>\n",
       "      <td>61.115044</td>\n",
       "      <td>10.456279</td>\n",
       "      <td>14669</td>\n",
       "      <td>2018</td>\n",
       "      <td>5</td>\n",
       "      <td>7334</td>\n",
       "      <td>7334</td>\n",
       "    </tr>\n",
       "  </tbody>\n",
       "</table>\n",
       "</div>"
      ],
      "text/plain": [
       "              id            name        lat        lon  volume  year  month  \\\n",
       "0  41379V1201935  MESNADALSARMEN  61.115044  10.456279   13023  2018      1   \n",
       "2  41379V1201935  MESNADALSARMEN  61.115044  10.456279   13998  2018      2   \n",
       "4  41379V1201935  MESNADALSARMEN  61.115044  10.456279   13878  2018      3   \n",
       "6  41379V1201935  MESNADALSARMEN  61.115044  10.456279   14288  2018      4   \n",
       "8  41379V1201935  MESNADALSARMEN  61.115044  10.456279   14669  2018      5   \n",
       "\n",
       "   volume1  volume2  \n",
       "0     6512     6512  \n",
       "2     6999     6999  \n",
       "4     6939     6939  \n",
       "6     7144     7144  \n",
       "8     7334     7334  "
      ]
     },
     "execution_count": 47,
     "metadata": {},
     "output_type": "execute_result"
    }
   ],
   "source": [
    "df.head()"
   ]
  },
  {
   "cell_type": "code",
   "execution_count": 49,
   "metadata": {},
   "outputs": [],
   "source": [
    "df.to_excel(\"weekly_data_xl.xlsx\")"
   ]
  },
  {
   "cell_type": "code",
   "execution_count": null,
   "metadata": {},
   "outputs": [],
   "source": []
  },
  {
   "cell_type": "code",
   "execution_count": null,
   "metadata": {},
   "outputs": [],
   "source": []
  }
 ],
 "metadata": {
  "kernelspec": {
   "display_name": "Python 3",
   "language": "python",
   "name": "python3"
  },
  "language_info": {
   "codemirror_mode": {
    "name": "ipython",
    "version": 3
   },
   "file_extension": ".py",
   "mimetype": "text/x-python",
   "name": "python",
   "nbconvert_exporter": "python",
   "pygments_lexer": "ipython3",
   "version": "3.10.10"
  },
  "orig_nbformat": 4,
  "vscode": {
   "interpreter": {
    "hash": "dc9198d752fabc74015ca3ce8d5de7530466fab88e0eb7c14aeb98fcedbad7af"
   }
  }
 },
 "nbformat": 4,
 "nbformat_minor": 2
}
