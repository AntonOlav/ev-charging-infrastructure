{
 "cells": [
  {
   "cell_type": "code",
   "execution_count": 3,
   "metadata": {},
   "outputs": [
    {
     "ename": "ModuleNotFoundError",
     "evalue": "No module named 'requests'",
     "output_type": "error",
     "traceback": [
      "\u001b[1;31m---------------------------------------------------------------------------\u001b[0m",
      "\u001b[1;31mModuleNotFoundError\u001b[0m                       Traceback (most recent call last)",
      "Cell \u001b[1;32mIn [3], line 1\u001b[0m\n\u001b[1;32m----> 1\u001b[0m \u001b[38;5;28;01mimport\u001b[39;00m \u001b[38;5;21;01mrequests\u001b[39;00m\n\u001b[0;32m      2\u001b[0m \u001b[38;5;28;01mimport\u001b[39;00m \u001b[38;5;21;01mjson\u001b[39;00m\n\u001b[0;32m      3\u001b[0m \u001b[38;5;28;01mimport\u001b[39;00m \u001b[38;5;21;01mos\u001b[39;00m\n",
      "\u001b[1;31mModuleNotFoundError\u001b[0m: No module named 'requests'"
     ]
    }
   ],
   "source": [
    "\n",
    "import json\n",
    "import os\n",
    "import requests\n",
    "\n",
    "\n",
    "# Set the query parameters\n",
    "params = {\n",
    "    \"typeVeg\": \"E\",\n",
    "}\n",
    "\n",
    "# Make the GET request\n",
    "response = requests.get(\"http://skjema.geonorge.no/SOSI/produktspesifikasjon/Elveg/2.0/Elveg\", params=params)\n",
    "\n",
    "# Print the status code of the response\n",
    "print(response.status_code)\n",
    "\n",
    "# Print the content of the response\n",
    "#print(response.content)\n",
    "\n",
    "# check the status code of the response\n",
    "if response.status_code == 200:\n",
    "        # if the request was successful, get the data from the response\n",
    "        data = response.json()\n",
    "\n",
    "# define the path and filename for the JSON file\n",
    "filenames = r\"C:\\Users\\anton\\Documents\\Master-Oppgave\\Kode\\geonorge1\"\n",
    "\n",
    "\n",
    "# write the data to the JSON file\n",
    "with open(filenames, \"w\") as f:\n",
    "    json.dump(data, f, indent=2)"
   ]
  },
  {
   "cell_type": "code",
   "execution_count": null,
   "metadata": {},
   "outputs": [],
   "source": [
    "\n"
   ]
  }
 ],
 "metadata": {
  "kernelspec": {
   "display_name": "Python 3.10.2 64-bit",
   "language": "python",
   "name": "python3"
  },
  "language_info": {
   "codemirror_mode": {
    "name": "ipython",
    "version": 3
   },
   "file_extension": ".py",
   "mimetype": "text/x-python",
   "name": "python",
   "nbconvert_exporter": "python",
   "pygments_lexer": "ipython3",
   "version": "3.10.2"
  },
  "orig_nbformat": 4,
  "vscode": {
   "interpreter": {
    "hash": "4604fddfbe3ec3d9d385c207fa0ddb9a05dfef66380401ad05b04bbd42d45367"
   }
  }
 },
 "nbformat": 4,
 "nbformat_minor": 2
}
