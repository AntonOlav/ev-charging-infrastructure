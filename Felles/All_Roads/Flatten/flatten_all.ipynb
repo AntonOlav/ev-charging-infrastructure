{
 "cells": [
  {
   "cell_type": "code",
   "execution_count": 1,
   "metadata": {},
   "outputs": [],
   "source": [
    "#Load packages\n",
    "\n",
    "import numpy as np\n",
    "import pandas as pd\n",
    "import json\n"
   ]
  },
  {
   "cell_type": "code",
   "execution_count": 2,
   "metadata": {},
   "outputs": [],
   "source": [
    "#Import volume datasets\n",
    "\n",
    "e_roads = json.load(open(r\"C:\\Users\\anton\\Desktop\\Master-Oppgave\\Anton\\Kode\\All_Roads\\JSON\\volume_E.json\"))\n",
    "r_roads = json.load(open(r\"C:\\Users\\anton\\Desktop\\Master-Oppgave\\Anton\\Kode\\All_Roads\\JSON\\volume_R.json\"))\n",
    "f_roads = json.load(open(r\"C:\\Users\\anton\\Desktop\\Master-Oppgave\\Anton\\Kode\\All_Roads\\JSON\\volume_F.json\"))\n",
    "\n"
   ]
  },
  {
   "cell_type": "code",
   "execution_count": 3,
   "metadata": {},
   "outputs": [],
   "source": [
    "#Function that flattens JSON formatted data from Vegvesen API\n",
    "\n",
    "def flatten(item):\n",
    "    return [\n",
    "        {\n",
    "            \"id\": item[\"data\"][\"trafficData\"][\"trafficRegistrationPoint\"][\"id\"],\n",
    "            \"name\": item[\"data\"][\"trafficData\"][\"trafficRegistrationPoint\"][\"name\"],\n",
    "            \"lat\": item[\"data\"][\"trafficData\"][\"trafficRegistrationPoint\"][\"location\"][\"coordinates\"][\"latLon\"][\"lat\"],\n",
    "            \"lon\": item[\"data\"][\"trafficData\"][\"trafficRegistrationPoint\"][\"location\"][\"coordinates\"][\"latLon\"][\"lon\"],\n",
    "            \"volume\": month[\"total\"][\"volume\"][\"average\"] if month and month[\"total\"] and month[\"total\"][\"volume\"] else np.nan,\n",
    "            \"year\":month[\"year\"] if month else np.nan,\n",
    "            \"month\": month[\"month\"] if month else np.nan,\n",
    "            \"heading1\": byDirection[\"heading\"] if byDirection[\"heading\"] else np.nan,\n",
    "            \"volume_heading1\": byDirection[\"total\"][\"volume\"][\"average\"] if byDirection[\"total\"][\"volume\"] else np.nan\n",
    "        }\n",
    "        for month in item[\"data\"][\"trafficData\"][\"volume\"][\"average\"][\"daily\"][\"byMonth\"] #IF Remove byMonth -> New error, string must be integers \n",
    "        if month\n",
    "\n",
    "        for byDirection in month[\"byDirection\"]\n",
    "        if byDirection\n",
    "    ]"
   ]
  },
  {
   "cell_type": "code",
   "execution_count": 4,
   "metadata": {},
   "outputs": [],
   "source": [
    "#Execute flatten function on data\n",
    "\n",
    "data_e = []\n",
    "for item in e_roads:\n",
    "    data_e.extend(flatten(item))\n",
    "\n",
    "data_r = []\n",
    "for item in r_roads:\n",
    "    data_r.extend(flatten(item))\n",
    "\n",
    "    data_f = []\n",
    "for item in f_roads:\n",
    "    data_f.extend(flatten(item))\n"
   ]
  },
  {
   "cell_type": "code",
   "execution_count": 5,
   "metadata": {},
   "outputs": [],
   "source": [
    "#Convert to dataframe\n",
    "\n",
    "df_e = pd.DataFrame(data_e)\n",
    "df_f = pd.DataFrame(data_f)\n",
    "df_r = pd.DataFrame(data_r)"
   ]
  },
  {
   "cell_type": "code",
   "execution_count": 6,
   "metadata": {},
   "outputs": [
    {
     "data": {
      "text/html": [
       "<div>\n",
       "<style scoped>\n",
       "    .dataframe tbody tr th:only-of-type {\n",
       "        vertical-align: middle;\n",
       "    }\n",
       "\n",
       "    .dataframe tbody tr th {\n",
       "        vertical-align: top;\n",
       "    }\n",
       "\n",
       "    .dataframe thead th {\n",
       "        text-align: right;\n",
       "    }\n",
       "</style>\n",
       "<table border=\"1\" class=\"dataframe\">\n",
       "  <thead>\n",
       "    <tr style=\"text-align: right;\">\n",
       "      <th></th>\n",
       "      <th>id</th>\n",
       "      <th>name</th>\n",
       "      <th>lat</th>\n",
       "      <th>lon</th>\n",
       "      <th>volume</th>\n",
       "      <th>year</th>\n",
       "      <th>month</th>\n",
       "      <th>heading1</th>\n",
       "      <th>volume_heading1</th>\n",
       "    </tr>\n",
       "  </thead>\n",
       "  <tbody>\n",
       "    <tr>\n",
       "      <th>0</th>\n",
       "      <td>65823V1668921</td>\n",
       "      <td>FJØSDALEN</td>\n",
       "      <td>67.98167</td>\n",
       "      <td>13.175464</td>\n",
       "      <td>469.0</td>\n",
       "      <td>2018</td>\n",
       "      <td>1</td>\n",
       "      <td>Leknes</td>\n",
       "      <td>235</td>\n",
       "    </tr>\n",
       "    <tr>\n",
       "      <th>1</th>\n",
       "      <td>65823V1668921</td>\n",
       "      <td>FJØSDALEN</td>\n",
       "      <td>67.98167</td>\n",
       "      <td>13.175464</td>\n",
       "      <td>469.0</td>\n",
       "      <td>2018</td>\n",
       "      <td>1</td>\n",
       "      <td>Reine</td>\n",
       "      <td>234</td>\n",
       "    </tr>\n",
       "    <tr>\n",
       "      <th>2</th>\n",
       "      <td>65823V1668921</td>\n",
       "      <td>FJØSDALEN</td>\n",
       "      <td>67.98167</td>\n",
       "      <td>13.175464</td>\n",
       "      <td>706.0</td>\n",
       "      <td>2018</td>\n",
       "      <td>2</td>\n",
       "      <td>Leknes</td>\n",
       "      <td>353</td>\n",
       "    </tr>\n",
       "    <tr>\n",
       "      <th>3</th>\n",
       "      <td>65823V1668921</td>\n",
       "      <td>FJØSDALEN</td>\n",
       "      <td>67.98167</td>\n",
       "      <td>13.175464</td>\n",
       "      <td>706.0</td>\n",
       "      <td>2018</td>\n",
       "      <td>2</td>\n",
       "      <td>Reine</td>\n",
       "      <td>352</td>\n",
       "    </tr>\n",
       "    <tr>\n",
       "      <th>4</th>\n",
       "      <td>65823V1668921</td>\n",
       "      <td>FJØSDALEN</td>\n",
       "      <td>67.98167</td>\n",
       "      <td>13.175464</td>\n",
       "      <td>760.0</td>\n",
       "      <td>2018</td>\n",
       "      <td>3</td>\n",
       "      <td>Leknes</td>\n",
       "      <td>381</td>\n",
       "    </tr>\n",
       "  </tbody>\n",
       "</table>\n",
       "</div>"
      ],
      "text/plain": [
       "              id       name       lat        lon  volume  year  month  \\\n",
       "0  65823V1668921  FJØSDALEN  67.98167  13.175464   469.0  2018      1   \n",
       "1  65823V1668921  FJØSDALEN  67.98167  13.175464   469.0  2018      1   \n",
       "2  65823V1668921  FJØSDALEN  67.98167  13.175464   706.0  2018      2   \n",
       "3  65823V1668921  FJØSDALEN  67.98167  13.175464   706.0  2018      2   \n",
       "4  65823V1668921  FJØSDALEN  67.98167  13.175464   760.0  2018      3   \n",
       "\n",
       "  heading1  volume_heading1  \n",
       "0   Leknes              235  \n",
       "1    Reine              234  \n",
       "2   Leknes              353  \n",
       "3    Reine              352  \n",
       "4   Leknes              381  "
      ]
     },
     "execution_count": 6,
     "metadata": {},
     "output_type": "execute_result"
    }
   ],
   "source": [
    "#Display dataframe \n",
    "\n",
    "df_r.head()\n",
    "df_f.head()\n",
    "df_e.head()\n"
   ]
  },
  {
   "cell_type": "code",
   "execution_count": 7,
   "metadata": {},
   "outputs": [
    {
     "name": "stdout",
     "output_type": "stream",
     "text": [
      "E registration points: 623\n",
      "R registration points: 382\n",
      "F registration points: 1239\n",
      "There is a total of 2244 traffic registration points in the dataset\n"
     ]
    }
   ],
   "source": [
    "#Check amount of registration points in the dataset\n",
    "\n",
    "unique_id_e=df_e[\"id\"].nunique()\n",
    "print(\"E registration points:\", unique_id_e)\n",
    "\n",
    "unique_id_r=df_r[\"id\"].nunique()\n",
    "print(\"R registration points:\", unique_id_r)\n",
    "\n",
    "unique_id_f=df_f[\"id\"].nunique()\n",
    "print(\"F registration points:\", unique_id_f)\n",
    "\n",
    "total_unique= unique_id_f + unique_id_r + unique_id_e\n",
    "\n",
    "print(\"There is a total of\" , total_unique , \"traffic registration points in the dataset\")"
   ]
  },
  {
   "cell_type": "code",
   "execution_count": 8,
   "metadata": {},
   "outputs": [],
   "source": [
    "# Concatenate the dataframes vertically\n",
    "\n",
    "all_points = pd.concat([df_e, df_r, df_f])\n",
    "\n",
    "# Reset the index of the concatenated dataframe\n",
    "all_points = all_points.reset_index(drop=True)\n"
   ]
  },
  {
   "cell_type": "code",
   "execution_count": 9,
   "metadata": {},
   "outputs": [
    {
     "data": {
      "text/html": [
       "<div>\n",
       "<style scoped>\n",
       "    .dataframe tbody tr th:only-of-type {\n",
       "        vertical-align: middle;\n",
       "    }\n",
       "\n",
       "    .dataframe tbody tr th {\n",
       "        vertical-align: top;\n",
       "    }\n",
       "\n",
       "    .dataframe thead th {\n",
       "        text-align: right;\n",
       "    }\n",
       "</style>\n",
       "<table border=\"1\" class=\"dataframe\">\n",
       "  <thead>\n",
       "    <tr style=\"text-align: right;\">\n",
       "      <th></th>\n",
       "      <th>id</th>\n",
       "      <th>name</th>\n",
       "      <th>lat</th>\n",
       "      <th>lon</th>\n",
       "      <th>volume</th>\n",
       "      <th>year</th>\n",
       "      <th>month</th>\n",
       "      <th>heading1</th>\n",
       "      <th>volume_heading1</th>\n",
       "    </tr>\n",
       "  </thead>\n",
       "  <tbody>\n",
       "    <tr>\n",
       "      <th>0</th>\n",
       "      <td>65823V1668921</td>\n",
       "      <td>FJØSDALEN</td>\n",
       "      <td>67.98167</td>\n",
       "      <td>13.175464</td>\n",
       "      <td>469.0</td>\n",
       "      <td>2018</td>\n",
       "      <td>1</td>\n",
       "      <td>Leknes</td>\n",
       "      <td>235</td>\n",
       "    </tr>\n",
       "    <tr>\n",
       "      <th>1</th>\n",
       "      <td>65823V1668921</td>\n",
       "      <td>FJØSDALEN</td>\n",
       "      <td>67.98167</td>\n",
       "      <td>13.175464</td>\n",
       "      <td>469.0</td>\n",
       "      <td>2018</td>\n",
       "      <td>1</td>\n",
       "      <td>Reine</td>\n",
       "      <td>234</td>\n",
       "    </tr>\n",
       "    <tr>\n",
       "      <th>2</th>\n",
       "      <td>65823V1668921</td>\n",
       "      <td>FJØSDALEN</td>\n",
       "      <td>67.98167</td>\n",
       "      <td>13.175464</td>\n",
       "      <td>706.0</td>\n",
       "      <td>2018</td>\n",
       "      <td>2</td>\n",
       "      <td>Leknes</td>\n",
       "      <td>353</td>\n",
       "    </tr>\n",
       "    <tr>\n",
       "      <th>3</th>\n",
       "      <td>65823V1668921</td>\n",
       "      <td>FJØSDALEN</td>\n",
       "      <td>67.98167</td>\n",
       "      <td>13.175464</td>\n",
       "      <td>706.0</td>\n",
       "      <td>2018</td>\n",
       "      <td>2</td>\n",
       "      <td>Reine</td>\n",
       "      <td>352</td>\n",
       "    </tr>\n",
       "    <tr>\n",
       "      <th>4</th>\n",
       "      <td>65823V1668921</td>\n",
       "      <td>FJØSDALEN</td>\n",
       "      <td>67.98167</td>\n",
       "      <td>13.175464</td>\n",
       "      <td>760.0</td>\n",
       "      <td>2018</td>\n",
       "      <td>3</td>\n",
       "      <td>Leknes</td>\n",
       "      <td>381</td>\n",
       "    </tr>\n",
       "  </tbody>\n",
       "</table>\n",
       "</div>"
      ],
      "text/plain": [
       "              id       name       lat        lon  volume  year  month  \\\n",
       "0  65823V1668921  FJØSDALEN  67.98167  13.175464   469.0  2018      1   \n",
       "1  65823V1668921  FJØSDALEN  67.98167  13.175464   469.0  2018      1   \n",
       "2  65823V1668921  FJØSDALEN  67.98167  13.175464   706.0  2018      2   \n",
       "3  65823V1668921  FJØSDALEN  67.98167  13.175464   706.0  2018      2   \n",
       "4  65823V1668921  FJØSDALEN  67.98167  13.175464   760.0  2018      3   \n",
       "\n",
       "  heading1  volume_heading1  \n",
       "0   Leknes              235  \n",
       "1    Reine              234  \n",
       "2   Leknes              353  \n",
       "3    Reine              352  \n",
       "4   Leknes              381  "
      ]
     },
     "execution_count": 9,
     "metadata": {},
     "output_type": "execute_result"
    }
   ],
   "source": [
    "all_points.head()"
   ]
  },
  {
   "cell_type": "code",
   "execution_count": 10,
   "metadata": {},
   "outputs": [
    {
     "name": "stdout",
     "output_type": "stream",
     "text": [
      "All registration points: 2244\n"
     ]
    }
   ],
   "source": [
    "#Check amount of registration points in the concatenated dataframe\n",
    "\n",
    "unique_ids=all_points[\"id\"].nunique()\n",
    "print(\"All registration points:\", unique_ids)"
   ]
  },
  {
   "cell_type": "code",
   "execution_count": 11,
   "metadata": {},
   "outputs": [
    {
     "name": "stdout",
     "output_type": "stream",
     "text": [
      "id                  object\n",
      "name                object\n",
      "lat                float64\n",
      "lon                float64\n",
      "volume             float64\n",
      "year                 int64\n",
      "month                int64\n",
      "heading1            object\n",
      "volume_heading1      int64\n",
      "dtype: object\n"
     ]
    }
   ],
   "source": [
    "# Print the data types of the columns\n",
    "\n",
    "print(all_points.dtypes)"
   ]
  },
  {
   "cell_type": "code",
   "execution_count": 12,
   "metadata": {},
   "outputs": [],
   "source": [
    "# Replace NaN with 0 in the 'volume' column\n",
    "all_points['volume'].fillna(0, inplace=True)\n",
    "all_points['volume']=all_points['volume'].round().astype('int64')"
   ]
  },
  {
   "cell_type": "code",
   "execution_count": 13,
   "metadata": {},
   "outputs": [
    {
     "name": "stdout",
     "output_type": "stream",
     "text": [
      "295\n"
     ]
    }
   ],
   "source": [
    "# Count the occurrences where 'volume' is equal to 0 or missing\n",
    "count = all_points['volume'].isnull().sum() + (all_points['volume'] == 0).sum()\n",
    "\n",
    "# print the count\n",
    "print(count)"
   ]
  },
  {
   "cell_type": "code",
   "execution_count": 14,
   "metadata": {},
   "outputs": [
    {
     "name": "stdout",
     "output_type": "stream",
     "text": [
      "12: 4333\n",
      "11: 4324\n",
      "10: 4298\n",
      "6: 4273\n",
      "9: 4270\n",
      "5: 4269\n",
      "7: 4267\n",
      "8: 4267\n",
      "1: 4259\n",
      "4: 4252\n",
      "2: 4243\n",
      "3: 4228\n"
     ]
    },
    {
     "name": "stderr",
     "output_type": "stream",
     "text": [
      "C:\\Users\\anton\\AppData\\Local\\Temp/ipykernel_2232/12571770.py:5: FutureWarning: iteritems is deprecated and will be removed in a future version. Use .items instead.\n",
      "  for month, count in month_counts.iteritems():\n"
     ]
    }
   ],
   "source": [
    "# use the value_counts() method to count the occurrences of each month\n",
    "month_counts = all_points['month'].value_counts()\n",
    "\n",
    "# print the results\n",
    "for month, count in month_counts.iteritems():\n",
    "    print(f'{month}: {count}')"
   ]
  },
  {
   "cell_type": "code",
   "execution_count": 15,
   "metadata": {},
   "outputs": [],
   "source": [
    "# define the file path where you want to save the file\n",
    "file_path = r'C:\\Users\\anton\\Desktop\\Master-Oppgave\\Anton\\Kode\\All_Roads\\CSV\\all_road_volume_org.csv'\n",
    "\n",
    "# save the DataFrame as a CSV file in the specified folder\n",
    "all_points.to_csv(file_path, index=False)"
   ]
  },
  {
   "cell_type": "code",
   "execution_count": 39,
   "metadata": {},
   "outputs": [],
   "source": [
    "df = df.drop_duplicates(subset=[\"id\", \"month\"])\n"
   ]
  },
  {
   "cell_type": "code",
   "execution_count": 41,
   "metadata": {},
   "outputs": [],
   "source": [
    "df.head()\n",
    "\n",
    "\n",
    "df = df.drop(columns=[\"heading1\", \"volume_heading1\"])\n"
   ]
  },
  {
   "cell_type": "code",
   "execution_count": 42,
   "metadata": {},
   "outputs": [],
   "source": [
    "df.head()\n",
    "\n",
    "df[\"volume1\"]=df[\"volume\"]/2\n",
    "df[\"volume2\"]=df[\"volume\"]/2\n",
    "\n"
   ]
  },
  {
   "cell_type": "code",
   "execution_count": null,
   "metadata": {},
   "outputs": [],
   "source": [
    "# check if column 'A' contains numeric values\n",
    "if pd.api.types.is_numeric_dtype(df['volume1']):\n",
    "    print('Column A contains numeric values')\n",
    "else:\n",
    "    print('Column A does not contain numeric values')\n",
    "\n",
    "# view the rows in column 'A' with non-numeric values\n",
    "non_numeric_rows = df.loc[~pd.to_numeric(df['volume1'], errors='coerce').notnull()]\n",
    "print(non_numeric_rows)"
   ]
  },
  {
   "cell_type": "code",
   "execution_count": 44,
   "metadata": {},
   "outputs": [
    {
     "data": {
      "text/html": [
       "<div>\n",
       "<style scoped>\n",
       "    .dataframe tbody tr th:only-of-type {\n",
       "        vertical-align: middle;\n",
       "    }\n",
       "\n",
       "    .dataframe tbody tr th {\n",
       "        vertical-align: top;\n",
       "    }\n",
       "\n",
       "    .dataframe thead th {\n",
       "        text-align: right;\n",
       "    }\n",
       "</style>\n",
       "<table border=\"1\" class=\"dataframe\">\n",
       "  <thead>\n",
       "    <tr style=\"text-align: right;\">\n",
       "      <th></th>\n",
       "      <th>id</th>\n",
       "      <th>name</th>\n",
       "      <th>lat</th>\n",
       "      <th>lon</th>\n",
       "      <th>volume</th>\n",
       "      <th>year</th>\n",
       "      <th>month</th>\n",
       "      <th>volume1</th>\n",
       "      <th>volume2</th>\n",
       "    </tr>\n",
       "  </thead>\n",
       "  <tbody>\n",
       "    <tr>\n",
       "      <th>0</th>\n",
       "      <td>41379V1201935</td>\n",
       "      <td>MESNADALSARMEN</td>\n",
       "      <td>61.115044</td>\n",
       "      <td>10.456279</td>\n",
       "      <td>13023</td>\n",
       "      <td>2018</td>\n",
       "      <td>1</td>\n",
       "      <td>6511.5</td>\n",
       "      <td>6511.5</td>\n",
       "    </tr>\n",
       "    <tr>\n",
       "      <th>2</th>\n",
       "      <td>41379V1201935</td>\n",
       "      <td>MESNADALSARMEN</td>\n",
       "      <td>61.115044</td>\n",
       "      <td>10.456279</td>\n",
       "      <td>13998</td>\n",
       "      <td>2018</td>\n",
       "      <td>2</td>\n",
       "      <td>6999.0</td>\n",
       "      <td>6999.0</td>\n",
       "    </tr>\n",
       "    <tr>\n",
       "      <th>4</th>\n",
       "      <td>41379V1201935</td>\n",
       "      <td>MESNADALSARMEN</td>\n",
       "      <td>61.115044</td>\n",
       "      <td>10.456279</td>\n",
       "      <td>13878</td>\n",
       "      <td>2018</td>\n",
       "      <td>3</td>\n",
       "      <td>6939.0</td>\n",
       "      <td>6939.0</td>\n",
       "    </tr>\n",
       "    <tr>\n",
       "      <th>6</th>\n",
       "      <td>41379V1201935</td>\n",
       "      <td>MESNADALSARMEN</td>\n",
       "      <td>61.115044</td>\n",
       "      <td>10.456279</td>\n",
       "      <td>14288</td>\n",
       "      <td>2018</td>\n",
       "      <td>4</td>\n",
       "      <td>7144.0</td>\n",
       "      <td>7144.0</td>\n",
       "    </tr>\n",
       "    <tr>\n",
       "      <th>8</th>\n",
       "      <td>41379V1201935</td>\n",
       "      <td>MESNADALSARMEN</td>\n",
       "      <td>61.115044</td>\n",
       "      <td>10.456279</td>\n",
       "      <td>14669</td>\n",
       "      <td>2018</td>\n",
       "      <td>5</td>\n",
       "      <td>7334.5</td>\n",
       "      <td>7334.5</td>\n",
       "    </tr>\n",
       "  </tbody>\n",
       "</table>\n",
       "</div>"
      ],
      "text/plain": [
       "              id            name        lat        lon  volume  year  month  \\\n",
       "0  41379V1201935  MESNADALSARMEN  61.115044  10.456279   13023  2018      1   \n",
       "2  41379V1201935  MESNADALSARMEN  61.115044  10.456279   13998  2018      2   \n",
       "4  41379V1201935  MESNADALSARMEN  61.115044  10.456279   13878  2018      3   \n",
       "6  41379V1201935  MESNADALSARMEN  61.115044  10.456279   14288  2018      4   \n",
       "8  41379V1201935  MESNADALSARMEN  61.115044  10.456279   14669  2018      5   \n",
       "\n",
       "   volume1  volume2  \n",
       "0   6511.5   6511.5  \n",
       "2   6999.0   6999.0  \n",
       "4   6939.0   6939.0  \n",
       "6   7144.0   7144.0  \n",
       "8   7334.5   7334.5  "
      ]
     },
     "execution_count": 44,
     "metadata": {},
     "output_type": "execute_result"
    }
   ],
   "source": []
  },
  {
   "cell_type": "code",
   "execution_count": 46,
   "metadata": {},
   "outputs": [],
   "source": [
    "df['volume1']=df['volume1'].round().astype(int)\n",
    "df['volume2']=df['volume2'].round().astype(int)"
   ]
  },
  {
   "cell_type": "code",
   "execution_count": 47,
   "metadata": {},
   "outputs": [
    {
     "data": {
      "text/html": [
       "<div>\n",
       "<style scoped>\n",
       "    .dataframe tbody tr th:only-of-type {\n",
       "        vertical-align: middle;\n",
       "    }\n",
       "\n",
       "    .dataframe tbody tr th {\n",
       "        vertical-align: top;\n",
       "    }\n",
       "\n",
       "    .dataframe thead th {\n",
       "        text-align: right;\n",
       "    }\n",
       "</style>\n",
       "<table border=\"1\" class=\"dataframe\">\n",
       "  <thead>\n",
       "    <tr style=\"text-align: right;\">\n",
       "      <th></th>\n",
       "      <th>id</th>\n",
       "      <th>name</th>\n",
       "      <th>lat</th>\n",
       "      <th>lon</th>\n",
       "      <th>volume</th>\n",
       "      <th>year</th>\n",
       "      <th>month</th>\n",
       "      <th>volume1</th>\n",
       "      <th>volume2</th>\n",
       "    </tr>\n",
       "  </thead>\n",
       "  <tbody>\n",
       "    <tr>\n",
       "      <th>0</th>\n",
       "      <td>41379V1201935</td>\n",
       "      <td>MESNADALSARMEN</td>\n",
       "      <td>61.115044</td>\n",
       "      <td>10.456279</td>\n",
       "      <td>13023</td>\n",
       "      <td>2018</td>\n",
       "      <td>1</td>\n",
       "      <td>6512</td>\n",
       "      <td>6512</td>\n",
       "    </tr>\n",
       "    <tr>\n",
       "      <th>2</th>\n",
       "      <td>41379V1201935</td>\n",
       "      <td>MESNADALSARMEN</td>\n",
       "      <td>61.115044</td>\n",
       "      <td>10.456279</td>\n",
       "      <td>13998</td>\n",
       "      <td>2018</td>\n",
       "      <td>2</td>\n",
       "      <td>6999</td>\n",
       "      <td>6999</td>\n",
       "    </tr>\n",
       "    <tr>\n",
       "      <th>4</th>\n",
       "      <td>41379V1201935</td>\n",
       "      <td>MESNADALSARMEN</td>\n",
       "      <td>61.115044</td>\n",
       "      <td>10.456279</td>\n",
       "      <td>13878</td>\n",
       "      <td>2018</td>\n",
       "      <td>3</td>\n",
       "      <td>6939</td>\n",
       "      <td>6939</td>\n",
       "    </tr>\n",
       "    <tr>\n",
       "      <th>6</th>\n",
       "      <td>41379V1201935</td>\n",
       "      <td>MESNADALSARMEN</td>\n",
       "      <td>61.115044</td>\n",
       "      <td>10.456279</td>\n",
       "      <td>14288</td>\n",
       "      <td>2018</td>\n",
       "      <td>4</td>\n",
       "      <td>7144</td>\n",
       "      <td>7144</td>\n",
       "    </tr>\n",
       "    <tr>\n",
       "      <th>8</th>\n",
       "      <td>41379V1201935</td>\n",
       "      <td>MESNADALSARMEN</td>\n",
       "      <td>61.115044</td>\n",
       "      <td>10.456279</td>\n",
       "      <td>14669</td>\n",
       "      <td>2018</td>\n",
       "      <td>5</td>\n",
       "      <td>7334</td>\n",
       "      <td>7334</td>\n",
       "    </tr>\n",
       "  </tbody>\n",
       "</table>\n",
       "</div>"
      ],
      "text/plain": [
       "              id            name        lat        lon  volume  year  month  \\\n",
       "0  41379V1201935  MESNADALSARMEN  61.115044  10.456279   13023  2018      1   \n",
       "2  41379V1201935  MESNADALSARMEN  61.115044  10.456279   13998  2018      2   \n",
       "4  41379V1201935  MESNADALSARMEN  61.115044  10.456279   13878  2018      3   \n",
       "6  41379V1201935  MESNADALSARMEN  61.115044  10.456279   14288  2018      4   \n",
       "8  41379V1201935  MESNADALSARMEN  61.115044  10.456279   14669  2018      5   \n",
       "\n",
       "   volume1  volume2  \n",
       "0     6512     6512  \n",
       "2     6999     6999  \n",
       "4     6939     6939  \n",
       "6     7144     7144  \n",
       "8     7334     7334  "
      ]
     },
     "execution_count": 47,
     "metadata": {},
     "output_type": "execute_result"
    }
   ],
   "source": [
    "df.head()"
   ]
  },
  {
   "cell_type": "code",
   "execution_count": 49,
   "metadata": {},
   "outputs": [],
   "source": [
    "df.to_excel(\"weekly_data_xl.xlsx\")"
   ]
  },
  {
   "cell_type": "code",
   "execution_count": null,
   "metadata": {},
   "outputs": [],
   "source": []
  },
  {
   "cell_type": "code",
   "execution_count": null,
   "metadata": {},
   "outputs": [],
   "source": []
  }
 ],
 "metadata": {
  "kernelspec": {
   "display_name": "Python 3",
   "language": "python",
   "name": "python3"
  },
  "language_info": {
   "codemirror_mode": {
    "name": "ipython",
    "version": 3
   },
   "file_extension": ".py",
   "mimetype": "text/x-python",
   "name": "python",
   "nbconvert_exporter": "python",
   "pygments_lexer": "ipython3",
   "version": "3.9.7"
  },
  "orig_nbformat": 4,
  "vscode": {
   "interpreter": {
    "hash": "dc9198d752fabc74015ca3ce8d5de7530466fab88e0eb7c14aeb98fcedbad7af"
   }
  }
 },
 "nbformat": 4,
 "nbformat_minor": 2
}
