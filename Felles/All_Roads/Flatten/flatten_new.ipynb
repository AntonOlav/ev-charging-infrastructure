{
 "cells": [
  {
   "cell_type": "code",
   "execution_count": 1,
   "metadata": {},
   "outputs": [],
   "source": [
    "#Load packages\n",
    "\n",
    "import numpy as np\n",
    "import pandas as pd\n",
    "import json\n"
   ]
  },
  {
   "cell_type": "code",
   "execution_count": 2,
   "metadata": {},
   "outputs": [],
   "source": [
    "#Import volume datasets\n",
    "\n",
    "e_roads = json.load(open(r\"C:\\Users\\anton\\Desktop\\Master-Oppgave\\Anton\\Kode\\All_Roads\\JSON\\volume_E.json\"))\n",
    "r_roads = json.load(open(r\"C:\\Users\\anton\\Desktop\\Master-Oppgave\\Anton\\Kode\\All_Roads\\JSON\\volume_R.json\"))\n",
    "f_roads = json.load(open(r\"C:\\Users\\anton\\Desktop\\Master-Oppgave\\Anton\\Kode\\All_Roads\\JSON\\volume_F.json\"))\n",
    "\n"
   ]
  },
  {
   "cell_type": "code",
   "execution_count": 3,
   "metadata": {},
   "outputs": [],
   "source": [
    "def flatten(item):\n",
    "    result = []\n",
    "    registration_point = item[\"data\"][\"trafficData\"][\"trafficRegistrationPoint\"]\n",
    "    lat = registration_point[\"location\"][\"coordinates\"][\"latLon\"][\"lat\"]\n",
    "    lon = registration_point[\"location\"][\"coordinates\"][\"latLon\"][\"lon\"]\n",
    "    by_month = item[\"data\"][\"trafficData\"][\"volume\"][\"average\"][\"daily\"][\"byMonth\"]\n",
    "    if by_month:\n",
    "        for month in range(1, 13):  # loop through all months\n",
    "            month_data = next((m for m in by_month if m.get(\"month\") == month), None)\n",
    "            if month_data:\n",
    "                by_direction = month_data.get(\"byDirection\", [])\n",
    "                result_direction1 = {\n",
    "                    \"id\": registration_point[\"id\"],\n",
    "                    \"name\": registration_point[\"name\"],\n",
    "                    \"lat\": lat,\n",
    "                    \"lon\": lon,\n",
    "                    \"volume\": month_data[\"total\"][\"volume\"][\"average\"] if month_data and month_data[\"total\"] and month_data[\"total\"][\"volume\"] else np.nan,\n",
    "                    \"year\": month_data[\"year\"] if month_data else np.nan,\n",
    "                    \"month\": month_data[\"month\"] if month_data else np.nan,\n",
    "                    \"heading1\": by_direction[0][\"heading\"] if by_direction and by_direction[0] and \"heading\" in by_direction[0] else np.nan,\n",
    "                    \"volume_heading1\": by_direction[0][\"total\"][\"volume\"][\"average\"] if by_direction and by_direction[0] and by_direction[0][\"total\"] and by_direction[0][\"total\"][\"volume\"] else np.nan,\n",
    "                    \"heading2\": by_direction[1][\"heading\"] if len(by_direction) > 1 and by_direction[1] and \"heading\" in by_direction[1] else np.nan,\n",
    "                    \"volume_heading2\": by_direction[1][\"total\"][\"volume\"][\"average\"] if len(by_direction) > 1 and by_direction[1] and by_direction[1][\"total\"] and by_direction[1][\"total\"][\"volume\"] else np.nan\n",
    "                }\n",
    "                result.append(result_direction1)\n",
    "    return result\n",
    "\n",
    "def merge_lists(list1, list2):\n",
    "    dict_ = {}\n",
    "    for d in list1+list2:\n",
    "        id_ = d[\"id\"]\n",
    "        if id_ in dict_:\n",
    "            if isinstance(dict_[id_], list):\n",
    "                dict_[id_].append(d)\n",
    "            else:\n",
    "                dict_[id_] = [dict_[id_], d]\n",
    "        else:\n",
    "            dict_[id_] = d\n",
    "    result = []\n",
    "    for key, value in dict_.items():\n",
    "        if isinstance(value, dict):\n",
    "            result.append(value)\n",
    "        else:\n",
    "            result.extend(value)\n",
    "    return result"
   ]
  },
  {
   "cell_type": "code",
   "execution_count": 4,
   "metadata": {},
   "outputs": [],
   "source": [
    "\n",
    "#Execute flatten function on data\n",
    "\n",
    "data_e = []\n",
    "for item in e_roads:\n",
    "    data_e.extend(flatten(item))\n",
    "data_e = merge_lists([d for d in data_e if \"heading1\" in d], [d for d in data_e if \"heading2\" in d])\n",
    "\n",
    "data_r = []\n",
    "for item in r_roads:\n",
    "    data_r.extend(flatten(item))\n",
    "data_r = merge_lists([d for d in data_r if \"heading1\" in d], [d for d in data_r if \"heading2\" in d])\n",
    "\n",
    "data_f = []\n",
    "for item in f_roads:\n",
    "    data_f.extend(flatten(item))\n",
    "data_f = merge_lists([d for d in data_f if \"heading1\" in d], [d for d in data_f if \"heading2\" in d])"
   ]
  },
  {
   "cell_type": "code",
   "execution_count": 5,
   "metadata": {},
   "outputs": [],
   "source": [
    "#Convert to dataframe\n",
    "\n",
    "df_e = pd.DataFrame(data_e)\n",
    "df_f = pd.DataFrame(data_f)\n",
    "df_r = pd.DataFrame(data_r)"
   ]
  },
  {
   "cell_type": "code",
   "execution_count": 6,
   "metadata": {},
   "outputs": [
    {
     "data": {
      "text/html": [
       "<div>\n",
       "<style scoped>\n",
       "    .dataframe tbody tr th:only-of-type {\n",
       "        vertical-align: middle;\n",
       "    }\n",
       "\n",
       "    .dataframe tbody tr th {\n",
       "        vertical-align: top;\n",
       "    }\n",
       "\n",
       "    .dataframe thead th {\n",
       "        text-align: right;\n",
       "    }\n",
       "</style>\n",
       "<table border=\"1\" class=\"dataframe\">\n",
       "  <thead>\n",
       "    <tr style=\"text-align: right;\">\n",
       "      <th></th>\n",
       "      <th>id</th>\n",
       "      <th>name</th>\n",
       "      <th>lat</th>\n",
       "      <th>lon</th>\n",
       "      <th>volume</th>\n",
       "      <th>year</th>\n",
       "      <th>month</th>\n",
       "      <th>heading1</th>\n",
       "      <th>volume_heading1</th>\n",
       "      <th>heading2</th>\n",
       "      <th>volume_heading2</th>\n",
       "    </tr>\n",
       "  </thead>\n",
       "  <tbody>\n",
       "    <tr>\n",
       "      <th>0</th>\n",
       "      <td>65823V1668921</td>\n",
       "      <td>FJØSDALEN</td>\n",
       "      <td>67.98167</td>\n",
       "      <td>13.175464</td>\n",
       "      <td>469.0</td>\n",
       "      <td>2018</td>\n",
       "      <td>1</td>\n",
       "      <td>Leknes</td>\n",
       "      <td>235.0</td>\n",
       "      <td>Reine</td>\n",
       "      <td>234.0</td>\n",
       "    </tr>\n",
       "    <tr>\n",
       "      <th>1</th>\n",
       "      <td>65823V1668921</td>\n",
       "      <td>FJØSDALEN</td>\n",
       "      <td>67.98167</td>\n",
       "      <td>13.175464</td>\n",
       "      <td>706.0</td>\n",
       "      <td>2018</td>\n",
       "      <td>2</td>\n",
       "      <td>Leknes</td>\n",
       "      <td>353.0</td>\n",
       "      <td>Reine</td>\n",
       "      <td>352.0</td>\n",
       "    </tr>\n",
       "    <tr>\n",
       "      <th>2</th>\n",
       "      <td>65823V1668921</td>\n",
       "      <td>FJØSDALEN</td>\n",
       "      <td>67.98167</td>\n",
       "      <td>13.175464</td>\n",
       "      <td>760.0</td>\n",
       "      <td>2018</td>\n",
       "      <td>3</td>\n",
       "      <td>Leknes</td>\n",
       "      <td>381.0</td>\n",
       "      <td>Reine</td>\n",
       "      <td>379.0</td>\n",
       "    </tr>\n",
       "    <tr>\n",
       "      <th>3</th>\n",
       "      <td>65823V1668921</td>\n",
       "      <td>FJØSDALEN</td>\n",
       "      <td>67.98167</td>\n",
       "      <td>13.175464</td>\n",
       "      <td>659.0</td>\n",
       "      <td>2018</td>\n",
       "      <td>4</td>\n",
       "      <td>Leknes</td>\n",
       "      <td>329.0</td>\n",
       "      <td>Reine</td>\n",
       "      <td>329.0</td>\n",
       "    </tr>\n",
       "    <tr>\n",
       "      <th>4</th>\n",
       "      <td>65823V1668921</td>\n",
       "      <td>FJØSDALEN</td>\n",
       "      <td>67.98167</td>\n",
       "      <td>13.175464</td>\n",
       "      <td>882.0</td>\n",
       "      <td>2018</td>\n",
       "      <td>5</td>\n",
       "      <td>Leknes</td>\n",
       "      <td>443.0</td>\n",
       "      <td>Reine</td>\n",
       "      <td>439.0</td>\n",
       "    </tr>\n",
       "  </tbody>\n",
       "</table>\n",
       "</div>"
      ],
      "text/plain": [
       "              id       name       lat        lon  volume  year  month  \\\n",
       "0  65823V1668921  FJØSDALEN  67.98167  13.175464   469.0  2018      1   \n",
       "1  65823V1668921  FJØSDALEN  67.98167  13.175464   706.0  2018      2   \n",
       "2  65823V1668921  FJØSDALEN  67.98167  13.175464   760.0  2018      3   \n",
       "3  65823V1668921  FJØSDALEN  67.98167  13.175464   659.0  2018      4   \n",
       "4  65823V1668921  FJØSDALEN  67.98167  13.175464   882.0  2018      5   \n",
       "\n",
       "  heading1  volume_heading1 heading2  volume_heading2  \n",
       "0   Leknes            235.0    Reine            234.0  \n",
       "1   Leknes            353.0    Reine            352.0  \n",
       "2   Leknes            381.0    Reine            379.0  \n",
       "3   Leknes            329.0    Reine            329.0  \n",
       "4   Leknes            443.0    Reine            439.0  "
      ]
     },
     "execution_count": 6,
     "metadata": {},
     "output_type": "execute_result"
    }
   ],
   "source": [
    "#Display dataframe \n",
    "\n",
    "df_r.head()\n",
    "df_f.head()\n",
    "df_e.head()\n"
   ]
  },
  {
   "cell_type": "code",
   "execution_count": 7,
   "metadata": {},
   "outputs": [
    {
     "name": "stdout",
     "output_type": "stream",
     "text": [
      "E registration points: 628\n",
      "R registration points: 384\n",
      "F registration points: 1240\n",
      "There is a total of 2252 traffic registration points in the dataset\n"
     ]
    }
   ],
   "source": [
    "#Check amount of registration points in the dataset\n",
    "\n",
    "unique_id_e=df_e[\"id\"].nunique()\n",
    "print(\"E registration points:\", unique_id_e)\n",
    "\n",
    "unique_id_r=df_r[\"id\"].nunique()\n",
    "print(\"R registration points:\", unique_id_r)\n",
    "\n",
    "unique_id_f=df_f[\"id\"].nunique()\n",
    "print(\"F registration points:\", unique_id_f)\n",
    "\n",
    "total_unique= unique_id_f + unique_id_r + unique_id_e\n",
    "\n",
    "print(\"There is a total of\" , total_unique , \"traffic registration points in the dataset\")"
   ]
  },
  {
   "cell_type": "code",
   "execution_count": 8,
   "metadata": {},
   "outputs": [],
   "source": [
    "# Concatenate the dataframes vertically\n",
    "\n",
    "all_points = pd.concat([df_e, df_r, df_f])\n",
    "\n",
    "# Reset the index of the concatenated dataframe\n",
    "all_points = all_points.reset_index(drop=True)\n"
   ]
  },
  {
   "cell_type": "code",
   "execution_count": 9,
   "metadata": {},
   "outputs": [
    {
     "name": "stdout",
     "output_type": "stream",
     "text": [
      "11: 4370\n",
      "12: 4370\n",
      "10: 4346\n",
      "5: 4334\n",
      "6: 4332\n",
      "7: 4328\n",
      "8: 4324\n",
      "9: 4322\n",
      "1: 4320\n",
      "4: 4316\n",
      "2: 4304\n",
      "3: 4290\n"
     ]
    },
    {
     "name": "stderr",
     "output_type": "stream",
     "text": [
      "C:\\Users\\anton\\AppData\\Local\\Temp/ipykernel_1528/12571770.py:5: FutureWarning: iteritems is deprecated and will be removed in a future version. Use .items instead.\n",
      "  for month, count in month_counts.iteritems():\n"
     ]
    }
   ],
   "source": [
    "# use the value_counts() method to count the occurrences of each month\n",
    "month_counts = all_points['month'].value_counts()\n",
    "\n",
    "# print the results\n",
    "for month, count in month_counts.iteritems():\n",
    "    print(f'{month}: {count}')"
   ]
  },
  {
   "cell_type": "code",
   "execution_count": 10,
   "metadata": {},
   "outputs": [
    {
     "data": {
      "text/html": [
       "<div>\n",
       "<style scoped>\n",
       "    .dataframe tbody tr th:only-of-type {\n",
       "        vertical-align: middle;\n",
       "    }\n",
       "\n",
       "    .dataframe tbody tr th {\n",
       "        vertical-align: top;\n",
       "    }\n",
       "\n",
       "    .dataframe thead th {\n",
       "        text-align: right;\n",
       "    }\n",
       "</style>\n",
       "<table border=\"1\" class=\"dataframe\">\n",
       "  <thead>\n",
       "    <tr style=\"text-align: right;\">\n",
       "      <th></th>\n",
       "      <th>id</th>\n",
       "      <th>name</th>\n",
       "      <th>lat</th>\n",
       "      <th>lon</th>\n",
       "      <th>volume</th>\n",
       "      <th>year</th>\n",
       "      <th>month</th>\n",
       "      <th>heading1</th>\n",
       "      <th>volume_heading1</th>\n",
       "      <th>heading2</th>\n",
       "      <th>volume_heading2</th>\n",
       "    </tr>\n",
       "  </thead>\n",
       "  <tbody>\n",
       "    <tr>\n",
       "      <th>0</th>\n",
       "      <td>65823V1668921</td>\n",
       "      <td>FJØSDALEN</td>\n",
       "      <td>67.98167</td>\n",
       "      <td>13.175464</td>\n",
       "      <td>469.0</td>\n",
       "      <td>2018</td>\n",
       "      <td>1</td>\n",
       "      <td>Leknes</td>\n",
       "      <td>235.0</td>\n",
       "      <td>Reine</td>\n",
       "      <td>234.0</td>\n",
       "    </tr>\n",
       "    <tr>\n",
       "      <th>1</th>\n",
       "      <td>65823V1668921</td>\n",
       "      <td>FJØSDALEN</td>\n",
       "      <td>67.98167</td>\n",
       "      <td>13.175464</td>\n",
       "      <td>706.0</td>\n",
       "      <td>2018</td>\n",
       "      <td>2</td>\n",
       "      <td>Leknes</td>\n",
       "      <td>353.0</td>\n",
       "      <td>Reine</td>\n",
       "      <td>352.0</td>\n",
       "    </tr>\n",
       "    <tr>\n",
       "      <th>2</th>\n",
       "      <td>65823V1668921</td>\n",
       "      <td>FJØSDALEN</td>\n",
       "      <td>67.98167</td>\n",
       "      <td>13.175464</td>\n",
       "      <td>760.0</td>\n",
       "      <td>2018</td>\n",
       "      <td>3</td>\n",
       "      <td>Leknes</td>\n",
       "      <td>381.0</td>\n",
       "      <td>Reine</td>\n",
       "      <td>379.0</td>\n",
       "    </tr>\n",
       "    <tr>\n",
       "      <th>3</th>\n",
       "      <td>65823V1668921</td>\n",
       "      <td>FJØSDALEN</td>\n",
       "      <td>67.98167</td>\n",
       "      <td>13.175464</td>\n",
       "      <td>659.0</td>\n",
       "      <td>2018</td>\n",
       "      <td>4</td>\n",
       "      <td>Leknes</td>\n",
       "      <td>329.0</td>\n",
       "      <td>Reine</td>\n",
       "      <td>329.0</td>\n",
       "    </tr>\n",
       "    <tr>\n",
       "      <th>4</th>\n",
       "      <td>65823V1668921</td>\n",
       "      <td>FJØSDALEN</td>\n",
       "      <td>67.98167</td>\n",
       "      <td>13.175464</td>\n",
       "      <td>882.0</td>\n",
       "      <td>2018</td>\n",
       "      <td>5</td>\n",
       "      <td>Leknes</td>\n",
       "      <td>443.0</td>\n",
       "      <td>Reine</td>\n",
       "      <td>439.0</td>\n",
       "    </tr>\n",
       "  </tbody>\n",
       "</table>\n",
       "</div>"
      ],
      "text/plain": [
       "              id       name       lat        lon  volume  year  month  \\\n",
       "0  65823V1668921  FJØSDALEN  67.98167  13.175464   469.0  2018      1   \n",
       "1  65823V1668921  FJØSDALEN  67.98167  13.175464   706.0  2018      2   \n",
       "2  65823V1668921  FJØSDALEN  67.98167  13.175464   760.0  2018      3   \n",
       "3  65823V1668921  FJØSDALEN  67.98167  13.175464   659.0  2018      4   \n",
       "4  65823V1668921  FJØSDALEN  67.98167  13.175464   882.0  2018      5   \n",
       "\n",
       "  heading1  volume_heading1 heading2  volume_heading2  \n",
       "0   Leknes            235.0    Reine            234.0  \n",
       "1   Leknes            353.0    Reine            352.0  \n",
       "2   Leknes            381.0    Reine            379.0  \n",
       "3   Leknes            329.0    Reine            329.0  \n",
       "4   Leknes            443.0    Reine            439.0  "
      ]
     },
     "execution_count": 10,
     "metadata": {},
     "output_type": "execute_result"
    }
   ],
   "source": [
    "all_points.head()"
   ]
  },
  {
   "cell_type": "code",
   "execution_count": 11,
   "metadata": {},
   "outputs": [
    {
     "name": "stdout",
     "output_type": "stream",
     "text": [
      "All registration points: 2252\n"
     ]
    }
   ],
   "source": [
    "#Check amount of registration points in the concatenated dataframe\n",
    "\n",
    "unique_ids=all_points[\"id\"].nunique()\n",
    "print(\"All registration points:\", unique_ids)"
   ]
  },
  {
   "cell_type": "code",
   "execution_count": 12,
   "metadata": {},
   "outputs": [
    {
     "name": "stdout",
     "output_type": "stream",
     "text": [
      "id                  object\n",
      "name                object\n",
      "lat                float64\n",
      "lon                float64\n",
      "volume             float64\n",
      "year                 int64\n",
      "month                int64\n",
      "heading1            object\n",
      "volume_heading1    float64\n",
      "heading2            object\n",
      "volume_heading2    float64\n",
      "dtype: object\n"
     ]
    }
   ],
   "source": [
    "# Print the data types of the columns\n",
    "\n",
    "print(all_points.dtypes)"
   ]
  },
  {
   "cell_type": "code",
   "execution_count": 13,
   "metadata": {},
   "outputs": [
    {
     "name": "stdout",
     "output_type": "stream",
     "text": [
      "648\n"
     ]
    }
   ],
   "source": [
    "# Count the occurrences where 'volume' is equal to 0 or missing\n",
    "count = all_points['volume'].isnull().sum() + (all_points['volume'] == 0).sum()\n",
    "\n",
    "# print the count\n",
    "print(count)\n",
    "\n",
    "# Replace NaN with 0 in the 'volume' column\n",
    "all_points['volume'].fillna(0, inplace=True)\n"
   ]
  },
  {
   "cell_type": "code",
   "execution_count": null,
   "metadata": {},
   "outputs": [],
   "source": [
    "all_points['volume']=all_points['volume'].round().astype('int64')\n"
   ]
  },
  {
   "cell_type": "code",
   "execution_count": 15,
   "metadata": {},
   "outputs": [],
   "source": [
    "all_points.head()\n",
    "\n",
    "# define the file path where you want to save the file\n",
    "file_path = r'C:\\Users\\anton\\Desktop\\Master-Oppgave\\Anton\\Kode\\All_Roads\\CSV\\all_road_volume.csv'\n",
    "\n",
    "# save the DataFrame as a CSV file in the specified folder\n",
    "all_points.to_csv(file_path, index=False)\n",
    "\n"
   ]
  },
  {
   "cell_type": "code",
   "execution_count": 17,
   "metadata": {},
   "outputs": [],
   "source": [
    "#I removed duplicates via an Excel procedure instead\n",
    "removed_dupes=pd.read_excel(r\"C:\\Users\\anton\\Desktop\\Master-Oppgave\\Anton\\Kode\\All_Roads\\CSV\\all_roads_volume.xlsx\")\n"
   ]
  },
  {
   "cell_type": "code",
   "execution_count": 18,
   "metadata": {},
   "outputs": [
    {
     "name": "stdout",
     "output_type": "stream",
     "text": [
      "All registration points: 2252\n"
     ]
    }
   ],
   "source": [
    "unique_ids_no_dupes=removed_dupes[\"id\"].nunique()\n",
    "print(\"All registration points:\", unique_ids_no_dupes)"
   ]
  },
  {
   "cell_type": "code",
   "execution_count": null,
   "metadata": {},
   "outputs": [],
   "source": []
  }
 ],
 "metadata": {
  "kernelspec": {
   "display_name": "Python 3",
   "language": "python",
   "name": "python3"
  },
  "language_info": {
   "codemirror_mode": {
    "name": "ipython",
    "version": 3
   },
   "file_extension": ".py",
   "mimetype": "text/x-python",
   "name": "python",
   "nbconvert_exporter": "python",
   "pygments_lexer": "ipython3",
   "version": "3.9.7"
  },
  "orig_nbformat": 4,
  "vscode": {
   "interpreter": {
    "hash": "dc9198d752fabc74015ca3ce8d5de7530466fab88e0eb7c14aeb98fcedbad7af"
   }
  }
 },
 "nbformat": 4,
 "nbformat_minor": 2
}
