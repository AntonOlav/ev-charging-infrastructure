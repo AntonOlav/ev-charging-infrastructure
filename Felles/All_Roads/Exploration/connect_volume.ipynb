{
 "cells": [
  {
   "cell_type": "code",
   "execution_count": 1,
   "metadata": {},
   "outputs": [],
   "source": [
    "import numpy as np\n",
    "import pandas as pd\n",
    "import geopandas as gpd\n",
    "import pickle\n",
    "import networkx as nx \n",
    "import osmnx as ox \n",
    "import numpy as np \n",
    "import seaborn as sns \n",
    "import pandas as pd\n",
    "import networkx as nx\n",
    "from shapely.geometry import Point, LineString\n",
    "import pickle\n",
    "import matplotlib.pyplot as plt\n",
    "import folium\n",
    "import pandas as pd\n",
    "import networkx as nx\n",
    "from shapely.geometry import Point, LineString\n",
    "import pickle\n",
    "from tqdm import tqdm \n",
    "\n",
    "pd.set_option('display.max_columns', None)"
   ]
  },
  {
   "cell_type": "code",
   "execution_count": null,
   "metadata": {},
   "outputs": [],
   "source": [
    "# Read in the road network graph\n",
    "\n",
    "with open(r\"C:\\Users\\anton\\Desktop\\Master-Oppgave\\Anton\\Kode\\pickles\\BaseGraph0_3NOR_wagrades.pickle\", 'rb') as file:\n",
    "    G = pickle.load(file)"
   ]
  },
  {
   "cell_type": "code",
   "execution_count": 3,
   "metadata": {},
   "outputs": [],
   "source": [
    "# create a dictionary mapping node IDs to (x, y) coordinates\n",
    "node_coords = {node: (data['x'], data['y']) for node, data in G.nodes(data=True)}"
   ]
  },
  {
   "cell_type": "code",
   "execution_count": null,
   "metadata": {},
   "outputs": [],
   "source": [
    "#Plot Graph\n",
    "\n",
    "ox.plot_graph(G, figsize = (30, 15), node_color=\"red\", edge_color = \"gray\", bgcolor = \"white\", node_size=5, edge_linewidth = 1)"
   ]
  },
  {
   "cell_type": "code",
   "execution_count": null,
   "metadata": {},
   "outputs": [],
   "source": [
    "# Create an empty dataframe to store node attributes\n",
    "node_df = pd.DataFrame(columns=['node', \"osmid\", \"latitude\", \"longitude\", 'gradient', \"isBridge\", \"isTunnel\", \"roadclass\", \"geometry\"])\n",
    "\n",
    "# Iterate over all nodes in the network\n",
    "# Note: Generates a lot of output - clear cell output after the code has run - must be a better way to this \n",
    "for node in G.nodes:\n",
    "    # Get the gradient attribute of the node and add it to the dataframe\n",
    "    osmid = G.nodes[node][\"osmid\"]\n",
    "    lat = G.nodes[node][\"x\"]\n",
    "    lon = G.nodes[node][\"y\"]\n",
    "    isBridge = G.nodes[node][\"isBridge\"]\n",
    "    isTunnel = G.nodes[node][\"isTunnel\"]\n",
    "    roadclass = G.nodes[node][\"roadclass\"]\n",
    "    gradient = G.nodes[node]['elevation']\n",
    "    geo = G.nodes[node][\"geometry\"]\n",
    "\n",
    "    node_df = node_df.append({\"osmid\": osmid, 'node': node, \"latitude\": lon, \"longitude\": lat, 'gradient': gradient, \"isBridge\": isBridge, \"isTunnel\": isTunnel, \"roadclass\": roadclass, \"geometry\": geo}, ignore_index=True)"
   ]
  },
  {
   "cell_type": "code",
   "execution_count": 6,
   "metadata": {},
   "outputs": [],
   "source": [
    "# Convert the edge data to a pandas DataFrame\n",
    "edge_data = G.edges(data=True)\n",
    "edge_df = pd.DataFrame(edge_data, columns=['source', 'target', 'data_dict'])\n",
    "\n",
    "# Extract the data into separate columns\n",
    "edge_df = pd.concat([edge_df.drop('data_dict', axis=1), edge_df['data_dict'].apply(pd.Series)], axis=1)"
   ]
  },
  {
   "cell_type": "code",
   "execution_count": 7,
   "metadata": {},
   "outputs": [],
   "source": [
    "# Convert the dataframes to geodataframes, using the \"geometry\" column as the geometry\n",
    "edge_gdf = gpd.GeoDataFrame(edge_df, geometry=\"geometry\")\n",
    "node_gdf = gpd.GeoDataFrame(node_df, geometry=\"geometry\")"
   ]
  },
  {
   "cell_type": "code",
   "execution_count": null,
   "metadata": {},
   "outputs": [],
   "source": [
    "import matplotlib.pyplot as plt\n",
    "\n",
    "# Create a scatter plot of the node locations\n",
    "fig, ax = plt.subplots(figsize=(30, 15))\n",
    "node_gdf.plot(ax=ax, markersize=1, color = 'red')\n",
    "\n",
    "# Add a title and axis labels\n",
    "ax.set_title(\"Node Locations\")\n",
    "ax.set_xlabel(\"Longitude\")\n",
    "ax.set_ylabel(\"Latitude\")\n",
    "\n",
    "print(\"To many nodes on the same locations...\")\n",
    "# Display the plot\n",
    "plt.show()"
   ]
  },
  {
   "cell_type": "code",
   "execution_count": null,
   "metadata": {},
   "outputs": [],
   "source": []
  },
  {
   "cell_type": "code",
   "execution_count": null,
   "metadata": {},
   "outputs": [],
   "source": []
  },
  {
   "cell_type": "code",
   "execution_count": null,
   "metadata": {},
   "outputs": [],
   "source": [
    "# Import Traffic Counts:\n",
    "# Load volume dataset\n",
    "csv_pd=pd.read_excel(r\"C:\\Users\\anton\\Desktop\\Master-Oppgave\\Anton\\Kode\\All_Roads\\CSV\\all_roads_volume.xlsx\")\n",
    "# csv_pd.drop(columns='Unnamed: 0', inplace=True)\n",
    "csv_pd.head(3)"
   ]
  },
  {
   "cell_type": "code",
   "execution_count": null,
   "metadata": {},
   "outputs": [],
   "source": [
    "#Removing all duaplicates, in this case we only need one observation per registration point to visualize\n",
    "\n",
    "csv_pd_woDup = csv_pd.copy().drop_duplicates('id').reset_index(drop=True)\n",
    "csv_pd_woDup.head(3)"
   ]
  },
  {
   "cell_type": "code",
   "execution_count": null,
   "metadata": {},
   "outputs": [],
   "source": [
    "# Remove volume1 and volume2\n",
    "\n",
    "csv_pd_woDup['geometry'] = csv_pd_woDup.apply(lambda x: Point(x['lon'], x['lat']), axis=1)\n",
    "csv_pd_woDup.head(3)"
   ]
  },
  {
   "cell_type": "code",
   "execution_count": null,
   "metadata": {},
   "outputs": [],
   "source": [
    "traffic_counts = gpd.GeoDataFrame(csv_pd_woDup, geometry=\"geometry\")\n",
    "points_df = traffic_counts.copy()\n",
    "traffic_counts.head(3)"
   ]
  },
  {
   "cell_type": "code",
   "execution_count": null,
   "metadata": {},
   "outputs": [],
   "source": [
    "# set style to default\n",
    "plt.style.use('ggplot')\n",
    "\n",
    "# set up the plot\n",
    "fig, ax = plt.subplots(figsize=(30, 15))\n",
    "\n",
    "node_gdf.plot(ax=ax, color='black', markersize=7)\n",
    "edge_gdf.plot(ax=ax, color='red')\n",
    "traffic_counts.plot(ax=ax, color='blue', markersize=30)\n",
    "ax.legend(['Nodes', 'Edges', 'Traffic_Counts'])\n",
    "ax.set_title('Network with Traffic Counts in Blue', fontweight='bold', fontsize=25)\n",
    "\n",
    "# display the plot\n",
    "plt.show()"
   ]
  },
  {
   "cell_type": "code",
   "execution_count": null,
   "metadata": {},
   "outputs": [],
   "source": [
    "# Create a folium map object centered on the first node in the node geodataframe\n",
    "map_obj = folium.Map(location=[node_gdf.geometry.iloc[0].y, node_gdf.geometry.iloc[0].x], zoom_start=10)\n",
    "\n",
    "# Create a feature group for the edges\n",
    "edge_fg = folium.FeatureGroup(name=\"Edges\")\n",
    "\n",
    "# Add each edge as a line to the feature group, with a popup displaying the edge weight\n",
    "for i, row in edge_gdf.iterrows():\n",
    "    popup_str = f\"Source: {row['source']}<br>Target: {row['target']}<br>Edge ID: {row['geometry']}\"\n",
    "    folium.PolyLine(locations=[(row.geometry.coords[0][1], row.geometry.coords[0][0]),\n",
    "                                (row.geometry.coords[1][1], row.geometry.coords[1][0])],\n",
    "                    popup=popup_str,\n",
    "                    tooltip=f\"Edge ({row['source']}, {row['target']})\").add_to(edge_fg)\n",
    "\n",
    "# Add the edge feature group to the map\n",
    "edge_fg.add_to(map_obj)\n",
    "\n",
    "# Add a layer control to the map, allowing the user to toggle the visibility of the edge and node feature groups\n",
    "folium.LayerControl().add_to(map_obj)\n",
    "\n",
    "# Display the map\n",
    "map_obj"
   ]
  },
  {
   "cell_type": "code",
   "execution_count": null,
   "metadata": {},
   "outputs": [],
   "source": [
    "import folium\n",
    "import networkx as nx\n",
    "\n",
    "# Create a folium map centered on the first point in points_df\n",
    "m = folium.Map(location=[points_df.iloc[0]['lat'], points_df.iloc[0]['lon']], zoom_start=10)\n",
    "\n",
    "\n",
    "# Add the points to the map\n",
    "for _, row in points_df.iterrows():\n",
    "    folium.Marker(location=[row['lat'], row['lon']], popup=(row['name'], row['id'])).add_to(m)\n",
    "\n",
    "# Display the map\n",
    "m\n"
   ]
  },
  {
   "cell_type": "code",
   "execution_count": null,
   "metadata": {},
   "outputs": [],
   "source": [
    "to_exclude=[\n",
    "    '', '','','','','','','','','','','','','','','','','','','','','','','','','','','','','','','','','','','','','','','','','','','','','','','','','','','','','','','','','','','','','','','','','','','','','','','','','','','','','','','','','','','','','','','','','','','','','','','','','','','','','','','','','','','','','','','','','','','','','','','','','','','','','','','','','','','','','','', "
   ]
  },
  {
   "cell_type": "code",
   "execution_count": null,
   "metadata": {},
   "outputs": [],
   "source": [
    "import plotly.graph_objs as go\n",
    "\n",
    "# Create the map trace\n",
    "map_trace = go.Scattermapbox(\n",
    "    lat=points_df['lat'],\n",
    "    lon=points_df['lon'],\n",
    "    mode='markers',\n",
    "    marker=dict(size=10, color='blue'),\n",
    "    text=points_df['name'],\n",
    "    hovertemplate=\"%{text}<br>Latitude: %{lat:.2f}<br>Longitude: %{lon:.2f}<extra></extra>\"\n",
    ")\n",
    "\n",
    "# Create the graph trace\n",
    "graph_trace = go.Bar(\n",
    "    x=points_df['name'],\n",
    "    y=points_df['volume'],\n",
    "    marker=dict(color='green'),\n",
    "    hovertemplate=\"%{x}<br>Volume: %{y}<extra></extra>\"\n",
    ")\n",
    "\n",
    "# Create the subplot figure\n",
    "fig = go.Figure(\n",
    "    data=[map_trace, graph_trace],\n",
    "    layout=go.Layout(\n",
    "        title='Map and Volume Bar Chart',\n",
    "        grid=dict(rows=1, columns=2),\n",
    "        mapbox=dict(\n",
    "            center=dict(lat=points_df['lat'].mean(), lon=points_df['lon'].mean()),\n",
    "            zoom=10,\n",
    "            style='open-street-map'\n",
    "        ),\n",
    "        xaxis=dict(title='Point Name'),\n",
    "        yaxis=dict(title='Volume')\n",
    "    )\n",
    ")\n",
    "\n",
    "# Display the subplot\n",
    "fig.show()\n"
   ]
  },
  {
   "cell_type": "code",
   "execution_count": null,
   "metadata": {},
   "outputs": [],
   "source": [
    "import mplleaflet\n",
    "\n",
    "# set style to default\n",
    "plt.style.use('ggplot')\n",
    "\n",
    "# set up the plot\n",
    "fig, ax = plt.subplots(figsize=(30, 15))\n",
    "\n",
    "node_gdf.plot(ax=ax, color='black', markersize=7)\n",
    "edge_gdf.plot(ax=ax, color='red')\n",
    "traffic_counts.plot(ax=ax, color='blue', markersize=30)\n",
    "ax.legend(['Nodes', 'Edges', 'Traffic_Counts'])\n",
    "ax.set_title('Network with Traffic Counts in Blue', fontweight='bold', fontsize=25)\n",
    "\n",
    "# convert the plot to an interactive map\n",
    "mplleaflet.show(fig=fig)\n"
   ]
  },
  {
   "cell_type": "code",
   "execution_count": null,
   "metadata": {},
   "outputs": [],
   "source": []
  }
 ],
 "metadata": {
  "kernelspec": {
   "display_name": "base",
   "language": "python",
   "name": "python3"
  },
  "language_info": {
   "codemirror_mode": {
    "name": "ipython",
    "version": 3
   },
   "file_extension": ".py",
   "mimetype": "text/x-python",
   "name": "python",
   "nbconvert_exporter": "python",
   "pygments_lexer": "ipython3",
   "version": "3.9.7"
  },
  "orig_nbformat": 4
 },
 "nbformat": 4,
 "nbformat_minor": 2
}
