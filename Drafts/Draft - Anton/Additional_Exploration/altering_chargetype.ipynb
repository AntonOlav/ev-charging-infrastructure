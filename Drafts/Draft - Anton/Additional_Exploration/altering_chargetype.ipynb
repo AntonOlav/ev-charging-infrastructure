{
 "cells": [
  {
   "cell_type": "code",
   "execution_count": 1,
   "metadata": {},
   "outputs": [],
   "source": [
    "import pandas as pd\n",
    "import numpy as np\n",
    "import geopandas as gpd\n",
    "import os\n",
    "import matplotlib.pyplot as plt\n",
    "from matplotlib.colors import ListedColormap\n",
    "from scipy.interpolate import make_interp_spline, UnivariateSpline\n",
    "import numpy as np\n",
    "import json\n",
    "from json import JSONEncoder\n",
    "import ast\n",
    "import seaborn as sns\n",
    "import warnings\n",
    "os.environ['USE_PYGEOS']='0' # Hva er dette?\n",
    "\n",
    "# Display all columns in the df\n",
    "pd.set_option('display.max_columns', None)\n",
    "# Set the float format to display numbers in standard decimal notation\n",
    "pd.options.display.float_format = '{:.5f}'.format\n",
    "warnings.filterwarnings('ignore', category=FutureWarning)\n",
    "warnings.filterwarnings(\"ignore\", category=DeprecationWarning) "
   ]
  },
  {
   "cell_type": "code",
   "execution_count": null,
   "metadata": {},
   "outputs": [],
   "source": []
  },
  {
   "cell_type": "markdown",
   "metadata": {},
   "source": [
    "## Original"
   ]
  },
  {
   "cell_type": "code",
   "execution_count": 2,
   "metadata": {},
   "outputs": [
    {
     "name": "stdout",
     "output_type": "stream",
     "text": [
      "350: 3.9\n",
      "300: 3.5\n",
      "250: 3.0\n",
      "200: 2.6\n",
      "180: 2.4\n",
      "175: 2.3\n",
      "150: 2.0\n",
      "135: 1.9\n",
      "129: 1.8\n",
      "125: 1.7\n",
      "120: 1.7\n",
      "100: 1.4\n",
      "75: 1.1\n",
      "62.5: 0.9\n",
      "62: 0.9\n",
      "60: 0.9\n",
      "55: 0.8\n",
      "50: 0.8\n",
      "48: 0.7\n",
      "44: 0.7\n",
      "43: 0.7\n"
     ]
    }
   ],
   "source": [
    "# Define the kW types of chargers\n",
    "kW_list = [350, 300, 250, 200, 180, 175, 150, 135, 129, 125, 120, 100, 75, 62.5, 62, 60, 55, 50, 48, 44, 43]\n",
    "\n",
    "# Define the average battery capacity, Source: https://www.solarquotes.com.au/blog/norway-ev-batteries/\n",
    "average_battery_capacity = 68\n",
    "\n",
    "# Define the battery aging factor (80% to 90% efficiency due to aging)\n",
    "battery_aging_ratio = 0.9\n",
    "\n",
    "average_battery_capacity*=battery_aging_ratio\n",
    "\n",
    "# Define the setup and takedown time (in minutes)\n",
    "setup_takedown_time = 5\n",
    "\n",
    "# Convert setup and takedown time to hours\n",
    "setup_takedown_time_hours = setup_takedown_time / 60\n",
    "\n",
    "# Initialize an empty dictionary\n",
    "cars_per_hour_dict = {}\n",
    "\n",
    "# Loop through the kW list\n",
    "for kW in kW_list:\n",
    "    # Calculate charging time\n",
    "    charging_time = average_battery_capacity / kW\n",
    "\n",
    "    # Add the setup and takedown time to the charging time\n",
    "    total_time = charging_time + setup_takedown_time_hours\n",
    "\n",
    "    # Calculate cars per hour and round it to 1 decimal place\n",
    "    cars_per_hour = round(1 / total_time, 1)\n",
    "\n",
    "    # Add this to the dictionary\n",
    "    cars_per_hour_dict[kW] = cars_per_hour\n",
    "\n",
    "# Print out the resulting dictionary\n",
    "for kW, cars_per_hour in cars_per_hour_dict.items():\n",
    "    print(f\"{kW}: {cars_per_hour}\")\n"
   ]
  },
  {
   "cell_type": "code",
   "execution_count": 13,
   "metadata": {},
   "outputs": [
    {
     "name": "stdout",
     "output_type": "stream",
     "text": [
      "           CarType  MaxChargeType PercentageOfCars  Percentage\n",
      "0    Jaguar I-Pace            100              2 %     1.60000\n",
      "1          VW ID-3            135              2 %     2.16000\n",
      "2   Nissan e-NV200             46              2 %     0.87400\n",
      "3     Hyundai Kona             50              3 %     1.35000\n",
      "4   Volkswagen UP!             50              3 %     1.60000\n",
      "5    Hyundai Ioniq            350              3 %    11.55000\n",
      "6    Tesla Model X            250              4 %    10.00000\n",
      "7      Renault Zoe             46              4 %     1.88600\n",
      "8      Audi E-Tron            170              4 %     7.31000\n",
      "9    Tesla Model 3            170              6 %     9.52000\n",
      "10        Kia Soul             77              6 %     4.54300\n",
      "11   Tesla Model S            250              6 %    15.25000\n",
      "12          BMW i3             49              8 %     3.96900\n",
      "13       VW e-Golf             43             14 %     5.93400\n",
      "14     Nissan Leaf             46             19 %     8.64800\n",
      "15           Other             55             15 %     8.25000\n",
      "Average Charger Type of Cars:  94.444\n"
     ]
    }
   ],
   "source": [
    "\n",
    "#Sources: https://elbilstatistikk.no / https://www.motor.no/elbil-elbilbestand-statistikk/fem-modeller-utgjor-over-halvparten-av-elbilene-i-norge/186847\n",
    "\n",
    "\n",
    "data = {\n",
    "    'CarType': ['Jaguar I-Pace', 'VW ID-3', 'Nissan e-NV200', 'Hyundai Kona', 'Volkswagen UP!', 'Hyundai Ioniq', 'Tesla Model X', 'Renault Zoe', 'Audi E-Tron', 'Tesla Model 3', 'Kia Soul', 'Tesla Model S', 'BMW i3', 'VW e-Golf', 'Nissan Leaf', 'Other'],\n",
    "    'MaxChargeType': [100, 135, 46, 50, 50, 350, 250, 46, 170, 170, 77, 250, 49, 43, 46, 55],\n",
    "    'PercentageOfCars': ['2 %', '2 %', '2 %', '3 %', '3 %', '3 %', '4 %', '4 %', '4 %', '6 %', '6 %', '6 %', '8 %', '14 %', '19 %', '15 %'],\n",
    "    'Percentage': [1.6, 2.16, 0.874, 1.35, 1.6, 11.55, 10, 1.886, 7.31, 9.52, 4.543, 15.25, 3.969, 5.934, 8.648, 8.25]\n",
    "}\n",
    "\n",
    "df = pd.DataFrame(data)\n",
    "print(df)\n",
    "\n",
    "average=df[\"Percentage\"].sum()\n",
    "print(\"Average Charger Type of Cars: \", average)\n"
   ]
  },
  {
   "cell_type": "markdown",
   "metadata": {},
   "source": [
    "### Given that the average charging type is far closer to 100 output speed than to the nearest lower charge type, we will round the average up to 100"
   ]
  },
  {
   "cell_type": "code",
   "execution_count": 11,
   "metadata": {},
   "outputs": [
    {
     "name": "stdout",
     "output_type": "stream",
     "text": [
      "350: 1.4\n",
      "300: 1.4\n",
      "250: 1.4\n",
      "200: 1.4\n",
      "180: 1.4\n",
      "175: 1.4\n",
      "150: 1.4\n",
      "135: 1.4\n",
      "129: 1.4\n",
      "125: 1.4\n",
      "120: 1.4\n",
      "100: 1.4\n",
      "75: 1.1\n",
      "62.5: 0.9\n",
      "62: 0.9\n",
      "60: 0.9\n",
      "55: 0.8\n",
      "50: 0.8\n",
      "48: 0.7\n",
      "44: 0.7\n",
      "43: 0.7\n"
     ]
    }
   ],
   "source": [
    "# Define the kW types of chargers\n",
    "kW_list = [350, 300, 250, 200, 180, 175, 150, 135, 129, 125, 120, 100, 75, 62.5, 62, 60, 55, 50, 48, 44, 43]\n",
    "\n",
    "# Define the average battery capacity, Source: https://www.solarquotes.com.au/blog/norway-ev-batteries/\n",
    "average_battery_capacity = 68\n",
    "\n",
    "# Define the battery aging factor (80% to 90% efficiency due to aging)\n",
    "battery_aging_ratio = 0.9\n",
    "\n",
    "average_battery_capacity*=battery_aging_ratio\n",
    "\n",
    "# Define the setup and takedown time (in minutes)\n",
    "setup_takedown_time = 5\n",
    "\n",
    "# Convert setup and takedown time to hours\n",
    "setup_takedown_time_hours = setup_takedown_time / 60\n",
    "\n",
    "# Initialize an empty dictionary\n",
    "cars_per_hour_dict = {}\n",
    "\n",
    "# Loop through the kW list\n",
    "for kW in kW_list:\n",
    "    # Calculate charging time\n",
    "    charging_time = average_battery_capacity / kW\n",
    "\n",
    "    # Add the setup and takedown time to the charging time\n",
    "    total_time = charging_time + setup_takedown_time_hours\n",
    "\n",
    "    # Calculate cars per hour and round it to 1 decimal place\n",
    "    cars_per_hour = round(1 / total_time, 1)\n",
    "\n",
    "    # Add this to the dictionary\n",
    "    cars_per_hour_dict[kW] = cars_per_hour\n",
    "\n",
    "    if kW >=101:   \n",
    "        cars_per_hour_dict[kW]=1.4\n",
    "\n",
    "# Print out the resulting dictionary\n",
    "for kW, cars_per_hour in cars_per_hour_dict.items():\n",
    "    print(f\"{kW}: {cars_per_hour}\")\n"
   ]
  },
  {
   "cell_type": "code",
   "execution_count": null,
   "metadata": {},
   "outputs": [],
   "source": []
  }
 ],
 "metadata": {
  "kernelspec": {
   "display_name": "Python 3.8.8 ('base')",
   "language": "python",
   "name": "python3"
  },
  "language_info": {
   "codemirror_mode": {
    "name": "ipython",
    "version": 3
   },
   "file_extension": ".py",
   "mimetype": "text/x-python",
   "name": "python",
   "nbconvert_exporter": "python",
   "pygments_lexer": "ipython3",
   "version": "3.8.8"
  },
  "orig_nbformat": 4,
  "vscode": {
   "interpreter": {
    "hash": "393afd99e82f473f00688931744ee43fc812449247a45149905dbd5d2b00094e"
   }
  }
 },
 "nbformat": 4,
 "nbformat_minor": 2
}
